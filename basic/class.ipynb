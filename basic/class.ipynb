{
 "cells": [
  {
   "cell_type": "code",
   "execution_count": null,
   "id": "145268d7",
   "metadata": {},
   "outputs": [],
   "source": [
    "class UserInfo:\n",
    "    #self : 인스턴스 메소드일 때 \n",
    "    def user_info(self):\n",
    "        print(\"메소드 실행\")"
   ]
  },
  {
   "cell_type": "code",
   "execution_count": 2,
   "id": "b7c554cb",
   "metadata": {},
   "outputs": [
    {
     "name": "stdout",
     "output_type": "stream",
     "text": [
      "메소드 실행\n"
     ]
    }
   ],
   "source": [
    "# 객체 생성\n",
    "user1 = UserInfo()\n",
    "user1.user_info()"
   ]
  },
  {
   "cell_type": "code",
   "execution_count": 7,
   "id": "ee8cb4f6",
   "metadata": {},
   "outputs": [],
   "source": [
    "class Car:\n",
    "    color = \"\"\n",
    "    speed = 0\n",
    "\n",
    "    def upSpeed(self, value):\n",
    "        self.speed += value\n",
    "\n",
    "    def downSpeed(self, value):\n",
    "        self.speed -= value\n",
    "\n",
    "    def __str__(self):\n",
    "        return f\"color {self.color}, speed {self.speed}\""
   ]
  },
  {
   "cell_type": "code",
   "execution_count": 8,
   "id": "417859d4",
   "metadata": {},
   "outputs": [
    {
     "name": "stdout",
     "output_type": "stream",
     "text": [
      "myCar1 color Red, speed 10 color Red speed 10 \n",
      "myCar2 color Blue, speed 50 color Blue speed 50\n"
     ]
    }
   ],
   "source": [
    "myCar1 = Car()\n",
    "myCar1.speed = 10\n",
    "myCar1.color = \"Red\"\n",
    "print(f\"myCar1 {myCar1} color {myCar1.color} speed {myCar1.speed} \")\n",
    "\n",
    "myCar2 = Car()\n",
    "myCar2.speed = 50\n",
    "myCar2.color = \"Blue\"\n",
    "print(f\"myCar2 {myCar2} color {myCar2.color} speed {myCar2.speed}\")\n"
   ]
  },
  {
   "cell_type": "code",
   "execution_count": 13,
   "id": "985ab0f6",
   "metadata": {},
   "outputs": [],
   "source": [
    "class UserInfo:\n",
    "    # 생성자\n",
    "    def __init__(self):\n",
    "        self.name = \"홍길동\"\n",
    "        self.age = 25\n",
    "    \n",
    "    def user_info(self):\n",
    "        print(\"메소드 실행\")\n",
    "\n",
    "    def __str__(self):\n",
    "        return f\"name : {self.name}, age : {self.age}\""
   ]
  },
  {
   "cell_type": "code",
   "execution_count": 14,
   "id": "15cb79d3",
   "metadata": {},
   "outputs": [
    {
     "name": "stdout",
     "output_type": "stream",
     "text": [
      "name : 홍길동, age : 25\n"
     ]
    }
   ],
   "source": [
    "info = UserInfo()\n",
    "print(info)"
   ]
  },
  {
   "cell_type": "code",
   "execution_count": 20,
   "id": "ef1ca51e",
   "metadata": {},
   "outputs": [],
   "source": [
    "class UserInfo:\n",
    "    # 생성자\n",
    "    def __init__(self,name=\"홍길동\",age=\"25\"):\n",
    "        self.name = name\n",
    "        self.age = age\n",
    "\n",
    "    def user_info(self):\n",
    "        print(\"메소드 실행\")\n",
    "\n",
    "    def __str__(self):\n",
    "        return f\"name : {self.name}, age : {self.age}\""
   ]
  },
  {
   "cell_type": "code",
   "execution_count": 21,
   "id": "f8a380ac",
   "metadata": {},
   "outputs": [
    {
     "name": "stdout",
     "output_type": "stream",
     "text": [
      "name : 김중원, age : 30\n"
     ]
    }
   ],
   "source": [
    "info = UserInfo(\"김중원\",30)\n",
    "print(info)"
   ]
  },
  {
   "cell_type": "code",
   "execution_count": 23,
   "id": "abea92f7",
   "metadata": {},
   "outputs": [],
   "source": [
    "class Car:\n",
    "    def __init__(self,color,speed):\n",
    "        self.color = color\n",
    "        self.speed = speed\n",
    "\n",
    "    def upSpeed(self, value):\n",
    "        self.speed += value\n",
    "\n",
    "    def downSpeed(self, value):\n",
    "        self.speed -= value\n",
    "\n",
    "    def __str__(self):\n",
    "        return f\"color {self.color}, speed {self.speed}\""
   ]
  },
  {
   "cell_type": "code",
   "execution_count": 24,
   "id": "f0ea7b78",
   "metadata": {},
   "outputs": [
    {
     "name": "stdout",
     "output_type": "stream",
     "text": [
      "color Red, speed 50\n",
      "color Black, speed 50\n"
     ]
    }
   ],
   "source": [
    "myCar1 = Car(\"Red\", 50)\n",
    "myCar2 = Car(\"Black\", 50)\n",
    "\n",
    "print(myCar1)\n",
    "print(myCar2)"
   ]
  },
  {
   "cell_type": "code",
   "execution_count": 26,
   "id": "702ad59d",
   "metadata": {},
   "outputs": [],
   "source": [
    "class UserInfo:\n",
    "    # 생성자 오버로딩은 없음\n",
    "    def __init__(self,name,age,email=None):\n",
    "        self.name = name\n",
    "        self.age = age\n",
    "        self.email = email\n",
    "\n",
    "    def user_info(self):\n",
    "        print(\"메소드 실행\")\n",
    "\n",
    "    def __str__(self):\n",
    "        return f\"name : {self.name}, age : {self.age}, email : {self.email}\""
   ]
  },
  {
   "cell_type": "code",
   "execution_count": 27,
   "id": "744feda8",
   "metadata": {},
   "outputs": [],
   "source": [
    "info = UserInfo(\"홍길동\",\"30\")\n",
    "info2 = UserInfo(\"성춘향\",\"25\",\"cnsgid@naver.com\")"
   ]
  },
  {
   "cell_type": "code",
   "execution_count": 50,
   "id": "ea978edc",
   "metadata": {},
   "outputs": [],
   "source": [
    "# 클래스 변수, 클래스 메소드 : static(자바)\n",
    "# 인스턴스 변수, 인스턴스 메소드 : self\n",
    "\n",
    "class UserInfo:\n",
    "\n",
    "    userCnt = 0\n",
    "\n",
    "    # 생성자 오버로딩은 없음\n",
    "    def __init__(self,name,age,email=None):\n",
    "        self.name = name\n",
    "        self.age = age\n",
    "        self.email = email\n",
    "\n",
    "        UserInfo.userCnt += 1\n",
    "\n",
    "    def user_info(self):\n",
    "        print(\"메소드 실행\")\n",
    "\n",
    "    def __str__(self):\n",
    "        return f\"name : {self.name}, age : {self.age}, email : {self.email}\"\n",
    "\n",
    "    def __del__(self):  # del\n",
    "        UserInfo.userCnt -= 1\n"
   ]
  },
  {
   "cell_type": "code",
   "execution_count": 51,
   "id": "d687f930",
   "metadata": {},
   "outputs": [
    {
     "name": "stdout",
     "output_type": "stream",
     "text": [
      "생성된 user 수 1\n"
     ]
    }
   ],
   "source": [
    "info1 = UserInfo(\"홍길동\",\"30\")\n",
    "info2 = UserInfo(\"성춘향\",\"25\",\"cnsgid@naver.com\")\n",
    "\n",
    "print(f\"생성된 user 수 {UserInfo.userCnt}\")"
   ]
  },
  {
   "cell_type": "code",
   "execution_count": 52,
   "id": "3bc4c7e4",
   "metadata": {},
   "outputs": [
    {
     "name": "stdout",
     "output_type": "stream",
     "text": [
      "생성된 user 수 0\n"
     ]
    }
   ],
   "source": [
    "del info1\n",
    "print(f\"생성된 user 수 {UserInfo.userCnt}\")"
   ]
  },
  {
   "cell_type": "code",
   "execution_count": null,
   "id": "c584bbda",
   "metadata": {},
   "outputs": [],
   "source": [
    "class SelfTest():\n",
    "    # 클래스 메소드 : self 없는 경우\n",
    "    @classmethod\n",
    "    def function1(cls):\n",
    "        print(\"function1\")\n",
    "    \n",
    "    def function2(self):\n",
    "        print(\"function2\")"
   ]
  },
  {
   "cell_type": "code",
   "execution_count": 57,
   "id": "d0cd6940",
   "metadata": {},
   "outputs": [
    {
     "name": "stdout",
     "output_type": "stream",
     "text": [
      "function1\n",
      "function2\n"
     ]
    }
   ],
   "source": [
    "test1 = SelfTest()\n",
    "# test1.function1()\n",
    "SelfTest.function1()\n",
    "test1.function2()"
   ]
  },
  {
   "cell_type": "code",
   "execution_count": 58,
   "id": "9eaeea74",
   "metadata": {},
   "outputs": [],
   "source": [
    "# Calc\n",
    "# 4 개의 method\n",
    "# 생성자 (num1,num2), 4개(사칙연산)\n",
    "\n",
    "class Calc():\n",
    "    def __init__(self, num1=0, num2=0):\n",
    "        self.num1 = num1\n",
    "        self.num2 = num2\n",
    "    \n",
    "    def sum(self):\n",
    "        return self.num1 + self.num2\n",
    "    def sub(self):\n",
    "        return self.num1 - self.num2\n",
    "    def mul(self):\n",
    "        return self.num1 * self.num2\n",
    "    def div(self):\n",
    "        return self.num1 / self.num2\n"
   ]
  },
  {
   "cell_type": "code",
   "execution_count": null,
   "id": "82f7c4ef",
   "metadata": {},
   "outputs": [
    {
     "name": "stdout",
     "output_type": "stream",
     "text": [
      "10 + 5 = 15\n",
      "10 + 5 = 5\n",
      "10 + 5 = 50\n",
      "10 + 5 = 2.0\n"
     ]
    }
   ],
   "source": [
    "a,b = 10,5\n",
    "calc = Calc(a,b)\n",
    "print(f\"{a} + {b} = {calc.sum()}\")\n",
    "print(f\"{a} - {b} = {calc.sub()}\")\n",
    "print(f\"{a} * {b} = {calc.mul()}\")\n",
    "print(f\"{a} / {b} = {calc.div()}\")"
   ]
  },
  {
   "cell_type": "code",
   "execution_count": 66,
   "id": "7f5d45f7",
   "metadata": {},
   "outputs": [],
   "source": [
    "# Account\n",
    "# 멤버변수 : ano, name, balance\n",
    "# 메서드 : withdraw, deposit\n",
    "# __str__ : name, balance\n",
    "\n",
    "class Account():\n",
    "    def __init__(self, ano, name, balance):\n",
    "        self.ano = ano\n",
    "        self.name = name\n",
    "        self.balance = balance\n",
    "\n",
    "    def withdraw(self, amount):\n",
    "        self.balance -= amount\n",
    "        return self.balance\n",
    "\n",
    "    def deposit(self, amount):\n",
    "        self.balance += amount\n",
    "        return self.balance\n",
    "\n",
    "\n",
    "    def __str__(self):\n",
    "        return f\"이름 : {self.name} / 잔액 : {self.balance}\"\n"
   ]
  },
  {
   "cell_type": "code",
   "execution_count": 67,
   "id": "1dd4aaf0",
   "metadata": {},
   "outputs": [
    {
     "name": "stdout",
     "output_type": "stream",
     "text": [
      "이름 : 홍길동 / 잔액 : 3000000\n",
      "3500000\n",
      "1500000\n"
     ]
    }
   ],
   "source": [
    "user1 = Account(\"111-22-333\",\"홍길동\",3000000)\n",
    "print(user1)\n",
    "# 예금\n",
    "print(user1.deposit(500000))\n",
    "# 출금\n",
    "print(user1.withdraw(2000000))"
   ]
  },
  {
   "cell_type": "code",
   "execution_count": 68,
   "id": "d8ebf668",
   "metadata": {},
   "outputs": [],
   "source": [
    "# 상속\n",
    "\n",
    "class Parent:\n",
    "    def __init__(self):\n",
    "        self.value = \"테스트\"\n",
    "        print(\"parent 클래스 __init__실행\")\n",
    "\n",
    "    def test(self):\n",
    "        print(\"parent 클래스 test 실행\")\n",
    "\n",
    "class Child(Parent):\n",
    "    def __init__(self):\n",
    "        super().__init__()\n",
    "        print(\"Chilc 클래스의 __init__ 실행\")"
   ]
  },
  {
   "cell_type": "code",
   "execution_count": 70,
   "id": "ad5785cf",
   "metadata": {},
   "outputs": [
    {
     "name": "stdout",
     "output_type": "stream",
     "text": [
      "parent 클래스 __init__실행\n",
      "Chilc 클래스의 __init__ 실행\n",
      "parent 클래스 test 실행\n",
      "테스트\n"
     ]
    }
   ],
   "source": [
    "child = Child()\n",
    "child.test()\n",
    "print(child.value)"
   ]
  },
  {
   "cell_type": "code",
   "execution_count": 74,
   "id": "d194417f",
   "metadata": {},
   "outputs": [],
   "source": [
    "class AudioVisual:\n",
    "    def __init__(self, power, volume):\n",
    "        self.power = power\n",
    "        self.volume = volume\n",
    "\n",
    "    def switch(self,on_off):\n",
    "        self.power = on_off\n",
    "\n",
    "    def volume(self,vol):\n",
    "        self.volume = vol\n",
    "\n",
    "class Audio(AudioVisual):\n",
    "    def __init__(self, power, volume):\n",
    "        super().__init__(power, volume)\n",
    "    \n",
    "    def tune(self):\n",
    "        str = \"La la la......\" if self.power else \"turn it on\"\n",
    "        print(str)\n",
    "\n",
    "class Tv(AudioVisual):\n",
    "    def __init__(self, power, volume, size):\n",
    "        super().__init__(power, volume)\n",
    "        self.size = size\n",
    "\n",
    "    def watch(self):\n",
    "        str = \"have fun!!\" if self.power else \"switch on\"\n",
    "        print(str)"
   ]
  },
  {
   "cell_type": "code",
   "execution_count": 76,
   "id": "e5d7c72a",
   "metadata": {},
   "outputs": [
    {
     "name": "stdout",
     "output_type": "stream",
     "text": [
      "have fun!!\n"
     ]
    }
   ],
   "source": [
    "tv = Tv(False, 12, 55)\n",
    "tv.switch(True)\n",
    "tv.watch()"
   ]
  },
  {
   "cell_type": "code",
   "execution_count": 80,
   "id": "f0b8d038",
   "metadata": {},
   "outputs": [],
   "source": [
    "# 오버라이딩\n",
    "\n",
    "class Parent:\n",
    "    def __init__(self):\n",
    "        self.value = \"테스트\"\n",
    "        print(\"parent 클래스 __init__실행\")\n",
    "\n",
    "    def func1(self):\n",
    "        print(\"parent 클래스 func1 실행\")\n",
    "    \n",
    "    def func2(self):\n",
    "        print(\"parent 클래스 func2 실행\")\n",
    "\n",
    "class Child(Parent):\n",
    "    def __init__(self):\n",
    "        super().__init__()\n",
    "        print(\"Chilc 클래스의 __init__ 실행\")\n",
    "\n",
    "    def func1(self):\n",
    "        print(\"Child 클래스 func1 실행\")\n",
    " \n",
    "    def func3(self):\n",
    "        print(\"Child 클래스 func3 실행\")"
   ]
  },
  {
   "cell_type": "code",
   "execution_count": 81,
   "id": "597bd187",
   "metadata": {},
   "outputs": [
    {
     "name": "stdout",
     "output_type": "stream",
     "text": [
      "parent 클래스 __init__실행\n",
      "parent 클래스 __init__실행\n",
      "Chilc 클래스의 __init__ 실행\n",
      "parent 클래스 func1 실행\n",
      "Child 클래스 func1 실행\n"
     ]
    }
   ],
   "source": [
    "parent = Parent()\n",
    "child = Child()\n",
    "\n",
    "parent.func1()\n",
    "child.func1()"
   ]
  },
  {
   "cell_type": "code",
   "execution_count": 88,
   "id": "500647e9",
   "metadata": {},
   "outputs": [],
   "source": [
    "# private : __\n",
    "import math\n",
    "\n",
    "class Circle:\n",
    "    def __init__(self):\n",
    "        self.__radius = radius\n",
    "\n",
    "    # getter / setter\n",
    "    def get_circumference(self):\n",
    "        return 2 * math.pi * self.__radius\n",
    "    \n",
    "    def get_circle_area(self):\n",
    "        return math.pi * (self.__radius ** 2)\n",
    "\n",
    "    def get_radius(self):\n",
    "        return self.__radius\n",
    "    \n",
    "    def set_radius(self, radius):\n",
    "        self.__radius = radius\n"
   ]
  },
  {
   "cell_type": "code",
   "execution_count": 89,
   "id": "b891895a",
   "metadata": {},
   "outputs": [
    {
     "ename": "TypeError",
     "evalue": "Circle.__init__() takes 1 positional argument but 2 were given",
     "output_type": "error",
     "traceback": [
      "\u001b[31m---------------------------------------------------------------------------\u001b[39m",
      "\u001b[31mTypeError\u001b[39m                                 Traceback (most recent call last)",
      "\u001b[36mCell\u001b[39m\u001b[36m \u001b[39m\u001b[32mIn[89]\u001b[39m\u001b[32m, line 1\u001b[39m\n\u001b[32m----> \u001b[39m\u001b[32m1\u001b[39m circle = \u001b[43mCircle\u001b[49m\u001b[43m(\u001b[49m\u001b[32;43m10\u001b[39;49m\u001b[43m)\u001b[49m\n\u001b[32m      2\u001b[39m \u001b[38;5;28mprint\u001b[39m(\u001b[33mf\u001b[39m\u001b[33m\"\u001b[39m\u001b[33m원의 둘레 \u001b[39m\u001b[38;5;132;01m{\u001b[39;00mcircle.get_circumference()\u001b[38;5;132;01m}\u001b[39;00m\u001b[33m\"\u001b[39m)\n\u001b[32m      3\u001b[39m \u001b[38;5;28mprint\u001b[39m(\u001b[33mf\u001b[39m\u001b[33m\"\u001b[39m\u001b[33m원의 면적 \u001b[39m\u001b[38;5;132;01m{\u001b[39;00mcircle.get_circle_area()\u001b[38;5;132;01m}\u001b[39;00m\u001b[33m\"\u001b[39m)\n",
      "\u001b[31mTypeError\u001b[39m: Circle.__init__() takes 1 positional argument but 2 were given"
     ]
    }
   ],
   "source": [
    "circle = Circle(10)\n",
    "print(f\"원의 둘레 {circle.get_circumference()}\")\n",
    "print(f\"원의 면적 {circle.get_circle_area()}\")\n",
    "# print(circle.__radius)\n",
    "print(circle.get_radius())\n",
    "\n"
   ]
  },
  {
   "cell_type": "code",
   "execution_count": null,
   "id": "a6c7004a",
   "metadata": {},
   "outputs": [],
   "source": []
  }
 ],
 "metadata": {
  "kernelspec": {
   "display_name": "venv",
   "language": "python",
   "name": "python3"
  },
  "language_info": {
   "codemirror_mode": {
    "name": "ipython",
    "version": 3
   },
   "file_extension": ".py",
   "mimetype": "text/x-python",
   "name": "python",
   "nbconvert_exporter": "python",
   "pygments_lexer": "ipython3",
   "version": "3.13.3"
  }
 },
 "nbformat": 4,
 "nbformat_minor": 5
}
