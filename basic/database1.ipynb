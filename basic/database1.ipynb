{
 "cells": [
  {
   "cell_type": "markdown",
   "id": "335aa542",
   "metadata": {},
   "source": [
    "### DB 연동\n",
    "- 내장 DB : SQLite\n",
    "    - RDBMS : 테이블 형태 DB\n"
   ]
  },
  {
   "cell_type": "code",
   "execution_count": 1,
   "id": "85f0c7ab",
   "metadata": {},
   "outputs": [],
   "source": [
    "import sqlite3\n",
    "from datetime import datetime"
   ]
  },
  {
   "cell_type": "code",
   "execution_count": 2,
   "id": "f90e2118",
   "metadata": {},
   "outputs": [
    {
     "name": "stdout",
     "output_type": "stream",
     "text": [
      "version 3.49.1\n"
     ]
    }
   ],
   "source": [
    "print('version', sqlite3.sqlite_version)"
   ]
  },
  {
   "cell_type": "code",
   "execution_count": 6,
   "id": "06538a6d",
   "metadata": {},
   "outputs": [
    {
     "name": "stdout",
     "output_type": "stream",
     "text": [
      "2025-06-10 10:49:07.758627\n",
      "2025-06-10 10:49:07\n"
     ]
    }
   ],
   "source": [
    "now = datetime.now()\n",
    "print(now)\n",
    "\n",
    "# 원하는 형식으로 변경\n",
    "nowDateTime = now.strftime(\"%Y-%m-%d %H:%M:%S\")\n",
    "print(nowDateTime)"
   ]
  },
  {
   "cell_type": "code",
   "execution_count": 9,
   "id": "7755cd02",
   "metadata": {},
   "outputs": [],
   "source": [
    "# 데이터베이스 생성\n",
    "# isolation_level : autocommit 하지 않기\n",
    "conn = sqlite3.connect(\"./test.db\", isolation_level=None)"
   ]
  },
  {
   "cell_type": "code",
   "execution_count": 10,
   "id": "e4a78df0",
   "metadata": {},
   "outputs": [],
   "source": [
    "cursor = conn.cursor()\n"
   ]
  },
  {
   "cell_type": "code",
   "execution_count": 11,
   "id": "fb6f1968",
   "metadata": {},
   "outputs": [
    {
     "data": {
      "text/plain": [
       "<sqlite3.Cursor at 0x1e5c1037540>"
      ]
     },
     "execution_count": 11,
     "metadata": {},
     "output_type": "execute_result"
    }
   ],
   "source": [
    "# 테이블 생성\n",
    "\n",
    "sql = \"create table if not exists users(id integer primary key, username text, email text, phone text, website text, regdate text)\"\n",
    "\n",
    "cursor.execute(sql)"
   ]
  },
  {
   "cell_type": "code",
   "execution_count": 12,
   "id": "43c1dd34",
   "metadata": {},
   "outputs": [
    {
     "data": {
      "text/plain": [
       "<sqlite3.Cursor at 0x1e5c1037540>"
      ]
     },
     "execution_count": 12,
     "metadata": {},
     "output_type": "execute_result"
    }
   ],
   "source": [
    "# create(insert)\n",
    "\n",
    "sql = \"insert into users(id,username,email,phone,website,regdate) \"\n",
    "sql += \"values(1, 'kim', 'kim@gmail.com', '010-1234-1234', 'Kim.com', ?)\"\n",
    "\n",
    "# ? : 튜플로 지정하기\n",
    "cursor.execute(sql, (nowDateTime,))"
   ]
  },
  {
   "cell_type": "code",
   "execution_count": 13,
   "id": "88ec2f87",
   "metadata": {},
   "outputs": [
    {
     "data": {
      "text/plain": [
       "<sqlite3.Cursor at 0x1e5c1037540>"
      ]
     },
     "execution_count": 13,
     "metadata": {},
     "output_type": "execute_result"
    }
   ],
   "source": [
    "\n",
    "sql = \"insert into users(id,username,email,phone,website,regdate) \"\n",
    "sql += \"values(?, ?, ?, ?, ?, ?)\"\n",
    "\n",
    "# ? : 튜플로 지정하기\n",
    "cursor.execute(sql, (2, 'Park', 'Park@gmail.com', '010-4324-1234', 'Park.com', nowDateTime,))"
   ]
  },
  {
   "cell_type": "code",
   "execution_count": 15,
   "id": "02360d82",
   "metadata": {},
   "outputs": [
    {
     "data": {
      "text/plain": [
       "<sqlite3.Cursor at 0x1e5c1037540>"
      ]
     },
     "execution_count": 15,
     "metadata": {},
     "output_type": "execute_result"
    }
   ],
   "source": [
    "userList = [\n",
    "    (3, 'Hong', 'Hong@gmail.com', '010-4324-1234', 'Hong.com', nowDateTime),\n",
    "    (4, 'Lee', 'Lee@gmail.com', '010-4324-1234', 'Lee.com', nowDateTime),\n",
    "    (5, 'Yoo', 'Yoo@gmail.com', '010-4324-1234', 'Yoo.com', nowDateTime)\n",
    "]\n",
    "\n",
    "cursor.executemany(sql, userList)\n"
   ]
  },
  {
   "cell_type": "code",
   "execution_count": 17,
   "id": "55674fa9",
   "metadata": {},
   "outputs": [
    {
     "data": {
      "text/plain": [
       "<sqlite3.Cursor at 0x1e5c1037540>"
      ]
     },
     "execution_count": 17,
     "metadata": {},
     "output_type": "execute_result"
    }
   ],
   "source": [
    "# 조회(Read) - fetchone(), fetchmany(size=x), fetchall()\n",
    "\n",
    "sql = \"select * from users\"\n",
    "\n",
    "cursor.execute(sql)"
   ]
  },
  {
   "cell_type": "code",
   "execution_count": 18,
   "id": "f71af99a",
   "metadata": {},
   "outputs": [
    {
     "data": {
      "text/plain": [
       "(1, 'kim', 'kim@gmail.com', '010-1234-1234', 'Kim.com', '2025-06-10 10:49:07')"
      ]
     },
     "execution_count": 18,
     "metadata": {},
     "output_type": "execute_result"
    }
   ],
   "source": [
    "cursor.fetchone()"
   ]
  },
  {
   "cell_type": "code",
   "execution_count": 19,
   "id": "af111b76",
   "metadata": {},
   "outputs": [
    {
     "data": {
      "text/plain": [
       "[(2,\n",
       "  'Park',\n",
       "  'Park@gmail.com',\n",
       "  '010-4324-1234',\n",
       "  'Park.com',\n",
       "  '2025-06-10 10:49:07'),\n",
       " (3,\n",
       "  'Hong',\n",
       "  'Hong@gmail.com',\n",
       "  '010-4324-1234',\n",
       "  'Hong.com',\n",
       "  '2025-06-10 10:49:07')]"
      ]
     },
     "execution_count": 19,
     "metadata": {},
     "output_type": "execute_result"
    }
   ],
   "source": [
    "cursor.fetchmany(2)"
   ]
  },
  {
   "cell_type": "code",
   "execution_count": 21,
   "id": "0b8740d0",
   "metadata": {},
   "outputs": [
    {
     "data": {
      "text/plain": [
       "[(4,\n",
       "  'Lee',\n",
       "  'Lee@gmail.com',\n",
       "  '010-4324-1234',\n",
       "  'Lee.com',\n",
       "  '2025-06-10 10:49:07'),\n",
       " (5,\n",
       "  'Yoo',\n",
       "  'Yoo@gmail.com',\n",
       "  '010-4324-1234',\n",
       "  'Yoo.com',\n",
       "  '2025-06-10 10:49:07')]"
      ]
     },
     "execution_count": 21,
     "metadata": {},
     "output_type": "execute_result"
    }
   ],
   "source": [
    "cursor.fetchall()"
   ]
  },
  {
   "cell_type": "code",
   "execution_count": 22,
   "id": "0815ee32",
   "metadata": {},
   "outputs": [
    {
     "name": "stdout",
     "output_type": "stream",
     "text": [
      "(1, 'kim', 'kim@gmail.com', '010-1234-1234', 'Kim.com', '2025-06-10 10:49:07')\n",
      "(2, 'Park', 'Park@gmail.com', '010-4324-1234', 'Park.com', '2025-06-10 10:49:07')\n",
      "(3, 'Hong', 'Hong@gmail.com', '010-4324-1234', 'Hong.com', '2025-06-10 10:49:07')\n",
      "(4, 'Lee', 'Lee@gmail.com', '010-4324-1234', 'Lee.com', '2025-06-10 10:49:07')\n",
      "(5, 'Yoo', 'Yoo@gmail.com', '010-4324-1234', 'Yoo.com', '2025-06-10 10:49:07')\n"
     ]
    }
   ],
   "source": [
    "sql = \"select * from users\"\n",
    "\n",
    "cursor.execute(sql)\n",
    "\n",
    "for row in cursor.fetchall():\n",
    "    print(row)"
   ]
  },
  {
   "cell_type": "code",
   "execution_count": 23,
   "id": "26ab96f1",
   "metadata": {},
   "outputs": [
    {
     "data": {
      "text/plain": [
       "[(3,\n",
       "  'Hong',\n",
       "  'Hong@gmail.com',\n",
       "  '010-4324-1234',\n",
       "  'Hong.com',\n",
       "  '2025-06-10 10:49:07')]"
      ]
     },
     "execution_count": 23,
     "metadata": {},
     "output_type": "execute_result"
    }
   ],
   "source": [
    "sql = \"select * from users where id=?\"\n",
    "\n",
    "cursor.execute(sql,(3,))\n",
    "cursor.fetchall()"
   ]
  },
  {
   "cell_type": "code",
   "execution_count": 24,
   "id": "1d9e184d",
   "metadata": {},
   "outputs": [
    {
     "data": {
      "text/plain": [
       "[(3,\n",
       "  'Hong',\n",
       "  'Hong@gmail.com',\n",
       "  '010-4324-1234',\n",
       "  'Hong.com',\n",
       "  '2025-06-10 10:49:07'),\n",
       " (5,\n",
       "  'Yoo',\n",
       "  'Yoo@gmail.com',\n",
       "  '010-4324-1234',\n",
       "  'Yoo.com',\n",
       "  '2025-06-10 10:49:07')]"
      ]
     },
     "execution_count": 24,
     "metadata": {},
     "output_type": "execute_result"
    }
   ],
   "source": [
    "sql = \"select * from users where id in (?,?)\"\n",
    "\n",
    "cursor.execute(sql,(3,5))\n",
    "cursor.fetchall()"
   ]
  },
  {
   "cell_type": "code",
   "execution_count": 30,
   "id": "8c19c0ad",
   "metadata": {},
   "outputs": [
    {
     "data": {
      "text/plain": [
       "[(3,\n",
       "  'Hong',\n",
       "  'Hong@gmail.com',\n",
       "  '010-4324-1234',\n",
       "  'Hong.com',\n",
       "  '2025-06-10 10:49:07')]"
      ]
     },
     "execution_count": 30,
     "metadata": {},
     "output_type": "execute_result"
    }
   ],
   "source": [
    "# username : Hong\n",
    "\n",
    "sql = \"select * from users where username=?\"\n",
    "\n",
    "cursor.execute(sql,(\"Hong\",))\n",
    "cursor.fetchall()"
   ]
  },
  {
   "cell_type": "code",
   "execution_count": 31,
   "id": "b15cd206",
   "metadata": {},
   "outputs": [
    {
     "data": {
      "text/plain": [
       "<sqlite3.Cursor at 0x1e5c1037540>"
      ]
     },
     "execution_count": 31,
     "metadata": {},
     "output_type": "execute_result"
    }
   ],
   "source": [
    "# 수정 : update\n",
    "\n",
    "sql = \"update users set phone=? where id=?\"\n",
    "\n",
    "cursor.execute(sql,('010-9876-5432',2))"
   ]
  },
  {
   "cell_type": "code",
   "execution_count": 32,
   "id": "d74dbc46",
   "metadata": {},
   "outputs": [
    {
     "data": {
      "text/plain": [
       "<sqlite3.Cursor at 0x1e5c1037540>"
      ]
     },
     "execution_count": 32,
     "metadata": {},
     "output_type": "execute_result"
    }
   ],
   "source": [
    "# 삭제 : delete\n",
    "\n",
    "sql = \"delete from users where id=?\"\n",
    "\n",
    "cursor.execute(sql, (5,))"
   ]
  },
  {
   "cell_type": "code",
   "execution_count": null,
   "id": "551b073f",
   "metadata": {},
   "outputs": [],
   "source": []
  }
 ],
 "metadata": {
  "kernelspec": {
   "display_name": "venv",
   "language": "python",
   "name": "python3"
  },
  "language_info": {
   "codemirror_mode": {
    "name": "ipython",
    "version": 3
   },
   "file_extension": ".py",
   "mimetype": "text/x-python",
   "name": "python",
   "nbconvert_exporter": "python",
   "pygments_lexer": "ipython3",
   "version": "3.13.3"
  }
 },
 "nbformat": 4,
 "nbformat_minor": 5
}
