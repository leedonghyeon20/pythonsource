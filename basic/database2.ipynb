{
 "cells": [
  {
   "cell_type": "markdown",
   "id": "c9cd4e95",
   "metadata": {},
   "source": [
    "### DB연동\n",
    "- oracle 연동\n",
    "- pip install oracledb"
   ]
  },
  {
   "cell_type": "code",
   "execution_count": 1,
   "id": "df6cffd8",
   "metadata": {},
   "outputs": [],
   "source": [
    "import oracledb\n",
    "from datetime import datetime"
   ]
  },
  {
   "cell_type": "code",
   "execution_count": 2,
   "id": "b6b04383",
   "metadata": {},
   "outputs": [],
   "source": [
    "conn = oracledb.connect(user='c##java',password='12345',dsn='localhost/xe')\n",
    "cursor = conn.cursor()"
   ]
  },
  {
   "cell_type": "code",
   "execution_count": 3,
   "id": "f1cbd09f",
   "metadata": {},
   "outputs": [
    {
     "data": {
      "text/plain": [
       "datetime.datetime(2025, 6, 10, 11, 40, 39, 465506)"
      ]
     },
     "execution_count": 3,
     "metadata": {},
     "output_type": "execute_result"
    }
   ],
   "source": [
    "now = datetime.today()\n",
    "now"
   ]
  },
  {
   "cell_type": "code",
   "execution_count": 4,
   "id": "55721c09",
   "metadata": {},
   "outputs": [
    {
     "data": {
      "text/plain": [
       "<oracledb.Cursor on <oracledb.Connection to c##java@localhost/xe>>"
      ]
     },
     "execution_count": 4,
     "metadata": {},
     "output_type": "execute_result"
    }
   ],
   "source": [
    "sql = \"select * from boardtbl where bno between 1 and 10\"\n",
    "\n",
    "cursor.execute(sql)"
   ]
  },
  {
   "cell_type": "code",
   "execution_count": 5,
   "id": "363b0ce3",
   "metadata": {},
   "outputs": [
    {
     "name": "stdout",
     "output_type": "stream",
     "text": [
      "(1, datetime.datetime(2025, 5, 12, 16, 35, 31, 629931), datetime.datetime(2025, 5, 12, 16, 35, 31, 629931), 'Board Content1', 'user7@gmail.com', 'Board Title1')\n",
      "(2, datetime.datetime(2025, 5, 12, 16, 35, 31, 978752), datetime.datetime(2025, 5, 12, 16, 35, 31, 978752), 'Board Content2', 'user1@gmail.com', 'Board Title2')\n",
      "(3, datetime.datetime(2025, 5, 12, 16, 35, 31, 989747), datetime.datetime(2025, 5, 12, 16, 35, 31, 989747), 'Board Content3', 'user2@gmail.com', 'Board Title3')\n",
      "(4, datetime.datetime(2025, 5, 12, 16, 35, 31, 997742), datetime.datetime(2025, 5, 12, 16, 35, 31, 997742), 'Board Content4', 'user7@gmail.com', 'Board Title4')\n",
      "(5, datetime.datetime(2025, 5, 12, 16, 35, 32, 8736), datetime.datetime(2025, 5, 12, 16, 35, 32, 8736), 'Board Content5', 'user5@gmail.com', 'Board Title5')\n",
      "(6, datetime.datetime(2025, 5, 12, 16, 35, 32, 18729), datetime.datetime(2025, 5, 12, 16, 35, 32, 18729), 'Board Content6', 'user10@gmail.com', 'Board Title6')\n",
      "(7, datetime.datetime(2025, 5, 12, 16, 35, 32, 70745), datetime.datetime(2025, 5, 12, 16, 35, 32, 70745), 'Board Content7', 'user5@gmail.com', 'Board Title7')\n",
      "(8, datetime.datetime(2025, 5, 12, 16, 35, 32, 104726), datetime.datetime(2025, 5, 12, 16, 35, 32, 104726), 'Board Content8', 'user3@gmail.com', 'Board Title8')\n",
      "(9, datetime.datetime(2025, 5, 12, 16, 35, 32, 114719), datetime.datetime(2025, 5, 12, 16, 35, 32, 114719), 'Board Content9', 'user3@gmail.com', 'Board Title9')\n",
      "(10, datetime.datetime(2025, 5, 12, 16, 35, 32, 148718), datetime.datetime(2025, 5, 12, 16, 35, 32, 148718), 'Board Content10', 'user9@gmail.com', 'Board Title10')\n"
     ]
    }
   ],
   "source": [
    "for row in cursor.fetchall():\n",
    "    print(row)"
   ]
  },
  {
   "cell_type": "code",
   "execution_count": 10,
   "id": "7c5ffbaf",
   "metadata": {},
   "outputs": [
    {
     "data": {
      "text/plain": [
       "(1,\n",
       " datetime.datetime(2025, 5, 12, 16, 35, 31, 629931),\n",
       " datetime.datetime(2025, 5, 12, 16, 35, 31, 629931),\n",
       " 'Board Content1',\n",
       " 'user7@gmail.com',\n",
       " 'Board Title1')"
      ]
     },
     "execution_count": 10,
     "metadata": {},
     "output_type": "execute_result"
    }
   ],
   "source": [
    "# sql = \"select * from boardtbl where bno=:bno\"\n",
    "sql = \"select * from boardtbl where bno=:1\"\n",
    "cursor.execute(sql,(1,))\n",
    "cursor.fetchone()"
   ]
  },
  {
   "cell_type": "code",
   "execution_count": 11,
   "id": "d95e3ad7",
   "metadata": {},
   "outputs": [],
   "source": [
    "sql = \"insert into boardtbl(title, content, member_id, created_date, updated_date) \"\n",
    "sql += \"values(:1,:2,:3,:4,:5)\"\n",
    "\n",
    "data = ('python','python data','user1@gmail.com',now,now)\n",
    "cursor.execute(sql,data)\n",
    "conn.commit()\n"
   ]
  },
  {
   "cell_type": "code",
   "execution_count": 14,
   "id": "d3d40b34",
   "metadata": {},
   "outputs": [],
   "source": [
    "sql = \"update boardtbl set title=:1, updated_date=:2 where bno=:3\"\n",
    "\n",
    "now = datetime.today()\n",
    "\n",
    "cursor.execute(sql,('update title',now, 121))\n",
    "conn.commit()"
   ]
  },
  {
   "cell_type": "code",
   "execution_count": 15,
   "id": "a5e4d0c8",
   "metadata": {},
   "outputs": [],
   "source": [
    "sql = \"delete from boardtbl where bno=:1\"\n",
    "\n",
    "cursor.execute(sql,(121,))\n",
    "conn.commit()"
   ]
  },
  {
   "cell_type": "code",
   "execution_count": null,
   "id": "a4638b41",
   "metadata": {},
   "outputs": [],
   "source": []
  }
 ],
 "metadata": {
  "kernelspec": {
   "display_name": "venv",
   "language": "python",
   "name": "python3"
  },
  "language_info": {
   "codemirror_mode": {
    "name": "ipython",
    "version": 3
   },
   "file_extension": ".py",
   "mimetype": "text/x-python",
   "name": "python",
   "nbconvert_exporter": "python",
   "pygments_lexer": "ipython3",
   "version": "3.13.3"
  }
 },
 "nbformat": 4,
 "nbformat_minor": 5
}
