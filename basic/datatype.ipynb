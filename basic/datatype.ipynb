{
 "cells": [
  {
   "cell_type": "markdown",
   "id": "f47af329",
   "metadata": {},
   "source": [
    "### 자료형\n",
    "- 숫자형 : 정수, 실수, 8진수, 16진수\n"
   ]
  },
  {
   "cell_type": "code",
   "execution_count": 3,
   "id": "b582fa55",
   "metadata": {},
   "outputs": [
    {
     "data": {
      "text/plain": [
       "127"
      ]
     },
     "execution_count": 3,
     "metadata": {},
     "output_type": "execute_result"
    }
   ],
   "source": [
    "a = 123\n",
    "b = -1234\n",
    "\n",
    "# 8진수(0o), 16진수(0x)\n",
    "c = 0o177 # (1 * 8의2) + (7 * 8) + 7\n",
    "c   # print(c)"
   ]
  },
  {
   "cell_type": "code",
   "execution_count": 5,
   "id": "66b31e9e",
   "metadata": {},
   "outputs": [
    {
     "name": "stdout",
     "output_type": "stream",
     "text": [
      "7\n",
      "-1\n",
      "12\n",
      "0.75\n",
      "0\n",
      "3\n"
     ]
    }
   ],
   "source": [
    "# 사칙연산 : +, -, *, /, //, %\n",
    "\n",
    "a = 3\n",
    "b = 4\n",
    "\n",
    "print(a + b)\n",
    "print(a - b)\n",
    "print(a * b)\n",
    "print(a / b)    # 자바 : 몫, 자바스크립트, 파이썬\n",
    "print(a // b)   # 자바스크립트, 파이썬 => 몫\n",
    "print(a % b)"
   ]
  },
  {
   "cell_type": "markdown",
   "id": "20cff63d",
   "metadata": {},
   "source": [
    "- 문자열 자료형\n",
    "    - 작은 따옴표, 큰 따옴표, 큰 따옴표 3개, 작은 따옴표 3개"
   ]
  },
  {
   "cell_type": "code",
   "execution_count": null,
   "id": "afb9eed8",
   "metadata": {},
   "outputs": [
    {
     "data": {
      "text/plain": [
       "\"Python's favorite food is perl\""
      ]
     },
     "execution_count": 8,
     "metadata": {},
     "output_type": "execute_result"
    }
   ],
   "source": [
    "food = \"Python's favorite food is perl\"\n",
    "food"
   ]
  },
  {
   "cell_type": "code",
   "execution_count": 11,
   "id": "215fdea3",
   "metadata": {},
   "outputs": [
    {
     "data": {
      "text/plain": [
       "\"Python's favorite food is perl\""
      ]
     },
     "execution_count": 11,
     "metadata": {},
     "output_type": "execute_result"
    }
   ],
   "source": [
    "food = 'Python\\'s favorite food is perl'\n",
    "food"
   ]
  },
  {
   "cell_type": "code",
   "execution_count": 16,
   "id": "41cac914",
   "metadata": {},
   "outputs": [
    {
     "name": "stdout",
     "output_type": "stream",
     "text": [
      "Life is too short\n",
      "You need python\n"
     ]
    }
   ],
   "source": [
    "multiline = \"Life is too short\\nYou need python\"\n",
    "print(multiline)"
   ]
  },
  {
   "cell_type": "code",
   "execution_count": 15,
   "id": "ba98e6c1",
   "metadata": {},
   "outputs": [
    {
     "name": "stdout",
     "output_type": "stream",
     "text": [
      "Life is too short\n",
      "You need python\n"
     ]
    }
   ],
   "source": [
    "multiline = \"\"\"Life is too short\n",
    "You need python\"\"\"\n",
    "print(multiline)"
   ]
  },
  {
   "cell_type": "code",
   "execution_count": null,
   "id": "d970202c",
   "metadata": {},
   "outputs": [
    {
     "name": "stdout",
     "output_type": "stream",
     "text": [
      "Life is too short\n",
      "You need python\n"
     ]
    }
   ],
   "source": [
    "multiline = '''Life is too short\n",
    "You need python'''\n",
    "print(multiline)"
   ]
  },
  {
   "cell_type": "markdown",
   "id": "e937ae03",
   "metadata": {},
   "source": [
    "```\n",
    "- 문자열 연산\n",
    "    - + : 연결 \n",
    "    - * : 반복\n",
    "```\n",
    "\n"
   ]
  },
  {
   "cell_type": "code",
   "execution_count": 20,
   "id": "229fff39",
   "metadata": {},
   "outputs": [
    {
     "name": "stdout",
     "output_type": "stream",
     "text": [
      "Python is fun\n"
     ]
    }
   ],
   "source": [
    "head = \"Python\"\n",
    "tail = \" is fun\"\n",
    "print(head + tail)"
   ]
  },
  {
   "cell_type": "code",
   "execution_count": 22,
   "id": "7460c7cd",
   "metadata": {},
   "outputs": [
    {
     "name": "stdout",
     "output_type": "stream",
     "text": [
      "PythonPython\n"
     ]
    }
   ],
   "source": [
    "head = \"Python\"\n",
    "print(head * 2)\n"
   ]
  },
  {
   "cell_type": "code",
   "execution_count": 25,
   "id": "083d15cb",
   "metadata": {},
   "outputs": [
    {
     "name": "stdout",
     "output_type": "stream",
     "text": [
      "==================================================\n",
      "파이썬 프로그램\n",
      "==================================================\n"
     ]
    }
   ],
   "source": [
    "print(\"=\"*50)\n",
    "print(\"파이썬 프로그램\")\n",
    "print(\"=\"*50)\n"
   ]
  },
  {
   "cell_type": "markdown",
   "id": "617a4011",
   "metadata": {},
   "source": [
    "- 문자열 인덱싱과 슬라이싱(★)\n",
    "    - 인덱스 : 0(왼쪽)부터 시작, -1 을 붙이면 오른쪽부터 접근"
   ]
  },
  {
   "cell_type": "code",
   "execution_count": 26,
   "id": "ddf4eb47",
   "metadata": {},
   "outputs": [
    {
     "data": {
      "text/plain": [
       "'Life is too short You need python'"
      ]
     },
     "execution_count": 26,
     "metadata": {},
     "output_type": "execute_result"
    }
   ],
   "source": [
    "str1 = '''Life is too short You need python'''\n",
    "str1"
   ]
  },
  {
   "cell_type": "code",
   "execution_count": 28,
   "id": "6ed8e4c4",
   "metadata": {},
   "outputs": [
    {
     "name": "stdout",
     "output_type": "stream",
     "text": [
      "e\n",
      "h\n"
     ]
    }
   ],
   "source": [
    "# 인덱스\n",
    "print(str1[3])\n",
    "print(str1[-3])"
   ]
  },
  {
   "cell_type": "code",
   "execution_count": 33,
   "id": "5ab634b5",
   "metadata": {},
   "outputs": [
    {
     "name": "stdout",
     "output_type": "stream",
     "text": [
      "e is too short You need python\n",
      "Life i\n",
      "Life is too short You need python\n",
      "Life is too short You need\n"
     ]
    }
   ],
   "source": [
    "# 슬라이싱[시작위치:종료위치]\n",
    "# 위치 지정하지 않으면 무조건 처음 or 마지막 의미\n",
    "\n",
    "print(str1[3:])\n",
    "print(str1[:6])\n",
    "print(str1[:])\n",
    "print(str1[:-7])"
   ]
  },
  {
   "cell_type": "code",
   "execution_count": 36,
   "id": "95c34b4a",
   "metadata": {},
   "outputs": [
    {
     "name": "stdout",
     "output_type": "stream",
     "text": [
      "20250602\n",
      "Rainy\n"
     ]
    }
   ],
   "source": [
    "a = \"20250602Rainy\"\n",
    "\n",
    "# 날짜와 날씨 구분 후 출력\n",
    "date = a[:8]\n",
    "weather = a[8:]\n",
    "print(date)\n",
    "print(weather)"
   ]
  },
  {
   "cell_type": "markdown",
   "id": "ed592d89",
   "metadata": {},
   "source": [
    "- 문자열 포매팅\n",
    "    - %s : 문자열,(모든 것 가능)\n",
    "    - %c : 문자 1개\n",
    "    - %d : 정수\n",
    "    - %f : 부동소수\n",
    "    - %% : 문자 %를 의미"
   ]
  },
  {
   "cell_type": "code",
   "execution_count": 43,
   "id": "baa6622a",
   "metadata": {},
   "outputs": [
    {
     "name": "stdout",
     "output_type": "stream",
     "text": [
      "I eat 3 apples\n",
      "I eat 3 apples\n",
      "I eat 5 apples. so I was sick for five days\n",
      "Error is 98%\n"
     ]
    }
   ],
   "source": [
    "# %d, %s, %f\n",
    "\n",
    "print(\"I eat %d apples\" % 3)\n",
    "print(\"I eat %s apples\" % 3)\n",
    "print(\"I eat %s apples. so I was sick for %s days\" % (5,\"five\"))\n",
    "print('Error is %d%%' % 98)"
   ]
  },
  {
   "cell_type": "code",
   "execution_count": 46,
   "id": "d43c501f",
   "metadata": {},
   "outputs": [
    {
     "name": "stdout",
     "output_type": "stream",
     "text": [
      "hi\n",
      "        hi\n",
      "hi        \n"
     ]
    }
   ],
   "source": [
    "print('%s' % 'hi')\n",
    "print('%10s' % 'hi') # 10칸에서 오른쪽 정렬\n",
    "print('%-10s' % 'hi') # 10칸에서 왼쪽 정렬"
   ]
  },
  {
   "cell_type": "code",
   "execution_count": 49,
   "id": "145f035b",
   "metadata": {},
   "outputs": [
    {
     "name": "stdout",
     "output_type": "stream",
     "text": [
      "3.1416\n",
      "    3.1416\n"
     ]
    }
   ],
   "source": [
    "print(\"%.4f\" % 3.141592)\n",
    "print(\"%10.4f\" % 3.141592)"
   ]
  },
  {
   "cell_type": "markdown",
   "id": "04252b23",
   "metadata": {},
   "source": [
    "format 함수 사용한 포매팅"
   ]
  },
  {
   "cell_type": "code",
   "execution_count": 53,
   "id": "3055b9b0",
   "metadata": {},
   "outputs": [
    {
     "name": "stdout",
     "output_type": "stream",
     "text": [
      "I eat 3 apples\n",
      "I eat 3 apples\n",
      "I eat five apples\n",
      "I eat 5 apples. so I was sick for five days\n"
     ]
    }
   ],
   "source": [
    "print(\"I eat {0} apples\".format(3))\n",
    "print(\"I eat {0} apples\".format(3))\n",
    "print(\"I eat {0} apples\".format(\"five\"))\n",
    "print(\"I eat {0} apples. so I was sick for {1} days\".format(5,\"five\"))"
   ]
  },
  {
   "cell_type": "code",
   "execution_count": 55,
   "id": "2670b012",
   "metadata": {},
   "outputs": [
    {
     "name": "stdout",
     "output_type": "stream",
     "text": [
      "I eat 3 apples\n",
      "I eat 3 apples\n",
      "I eat 3 apples\n"
     ]
    }
   ],
   "source": [
    "number = 3\n",
    "print(\"I eat %d apples\" % number)\n",
    "print(\"I eat {0} apples\".format(number))\n",
    "print(\"I eat\", number, \"apples\")"
   ]
  },
  {
   "cell_type": "markdown",
   "id": "c59e1996",
   "metadata": {},
   "source": [
    "f 문자열 포매팅"
   ]
  },
  {
   "cell_type": "code",
   "execution_count": 58,
   "id": "a12e8495",
   "metadata": {},
   "outputs": [
    {
     "name": "stdout",
     "output_type": "stream",
     "text": [
      "나의 이름은 홍길동입니다. 나이는 30입니다.\n",
      "나의 이름은 홍길동입니다. 나이는 31입니다.\n"
     ]
    }
   ],
   "source": [
    "name = '홍길동'\n",
    "age = 30\n",
    "print(f\"나의 이름은 {name}입니다. 나이는 {age}입니다.\")\n",
    "print(f\"나의 이름은 {name}입니다. 나이는 {age + 1}입니다.\")"
   ]
  },
  {
   "cell_type": "markdown",
   "id": "83277335",
   "metadata": {},
   "source": [
    "문자열 관련 함수"
   ]
  },
  {
   "cell_type": "code",
   "execution_count": 61,
   "id": "07cd56b2",
   "metadata": {},
   "outputs": [
    {
     "data": {
      "text/plain": [
       "2"
      ]
     },
     "execution_count": 61,
     "metadata": {},
     "output_type": "execute_result"
    }
   ],
   "source": [
    "a = \"hobby\"\n",
    "# count() : 특정 문자열 갯수\n",
    "\n",
    "a.count('b')"
   ]
  },
  {
   "cell_type": "code",
   "execution_count": null,
   "id": "483a143a",
   "metadata": {},
   "outputs": [
    {
     "data": {
      "text/plain": [
       "5"
      ]
     },
     "execution_count": 63,
     "metadata": {},
     "output_type": "execute_result"
    }
   ],
   "source": [
    "# 길이\n",
    "len(a)"
   ]
  },
  {
   "cell_type": "code",
   "execution_count": null,
   "id": "08621051",
   "metadata": {},
   "outputs": [
    {
     "name": "stdout",
     "output_type": "stream",
     "text": [
      "14\n",
      "14\n",
      "14\n",
      "-1\n"
     ]
    }
   ],
   "source": [
    "a = \"Python is the best choice\"\n",
    "# b 라는 문자가 처음 나온 위치\n",
    "# find(찾을 문자, 시작 위치(옵션))\n",
    "print(a.find(\"b\"))\n",
    "print(a.find(\"b\", 10))\n",
    "print(a.rfind(\"b\"))\n",
    "print(a.find(\"k\"))"
   ]
  },
  {
   "cell_type": "code",
   "execution_count": 68,
   "id": "8cc93ea7",
   "metadata": {},
   "outputs": [
    {
     "name": "stdout",
     "output_type": "stream",
     "text": [
      "14\n"
     ]
    }
   ],
   "source": [
    "print(a.index(\"b\"))\n",
    "# print(a.index(\"k\")) 찾는 문자가 없을 때 에러 반환\n"
   ]
  },
  {
   "cell_type": "code",
   "execution_count": null,
   "id": "039944b9",
   "metadata": {},
   "outputs": [
    {
     "name": "stdout",
     "output_type": "stream",
     "text": [
      "True\n",
      "False\n",
      "False\n"
     ]
    }
   ],
   "source": [
    "# startswith() : 특정 문자로 시작하는\n",
    "# endswith() : 특정 문자로 끝나는\n",
    "print(a.startswith(\"P\"))\n",
    "print(a.startswith(\"p\"))\n",
    "print(a.endswith(\"P\"))"
   ]
  },
  {
   "cell_type": "code",
   "execution_count": 78,
   "id": "0b74da05",
   "metadata": {},
   "outputs": [
    {
     "name": "stdout",
     "output_type": "stream",
     "text": [
      "a,b,c,d,e\n",
      "ABCD\n"
     ]
    }
   ],
   "source": [
    "# join() : 리스트를 일반 무자열로 변경 시 가장 많이 사용\n",
    "\n",
    "print(\",\".join(\"abcde\"))\n",
    "print(\"\".join([\"A\",\"B\",\"C\",\"D\"]))"
   ]
  },
  {
   "cell_type": "code",
   "execution_count": null,
   "id": "ceca0806",
   "metadata": {},
   "outputs": [
    {
     "name": "stdout",
     "output_type": "stream",
     "text": [
      "ABCDE\n",
      "abcde\n",
      "aBcDe\n"
     ]
    }
   ],
   "source": [
    "# upper(), lower() : 대문자, 소문자 변환\n",
    "# swapcase() : 대소문자 상호 변환 묹長\n",
    "a = \"abcde\"\n",
    "print(a.upper())\n",
    "a = \"ABCDE\"\n",
    "print(a.lower())\n",
    "a = \"AbCdE\"\n",
    "print(a.swapcase())"
   ]
  },
  {
   "cell_type": "code",
   "execution_count": 83,
   "id": "f4be3205",
   "metadata": {},
   "outputs": [
    {
     "name": "stdout",
     "output_type": "stream",
     "text": [
      "       hi\n",
      "hi\n",
      "hi       \n",
      "hi\n",
      "       hi          \n",
      "hi\n"
     ]
    }
   ],
   "source": [
    "# 공백 제거\n",
    "# lstrip() : 왼쪽 공백 제거\n",
    "# rstrip() : 오른쪽 공백 제거\n",
    "# strip() : 양쪽 공백 제거\n",
    "\n",
    "a = \"       hi\"\n",
    "print(a)\n",
    "print(a.lstrip())\n",
    "\n",
    "a = \"hi       \"\n",
    "print(a)\n",
    "print(a.rstrip())\n",
    "\n",
    "a = \"       hi          \"\n",
    "print(a)\n",
    "print(a.strip())\n",
    "\n",
    "\n"
   ]
  },
  {
   "cell_type": "code",
   "execution_count": 85,
   "id": "291eb396",
   "metadata": {},
   "outputs": [
    {
     "data": {
      "text/plain": [
       "'Your leg is too short'"
      ]
     },
     "execution_count": 85,
     "metadata": {},
     "output_type": "execute_result"
    }
   ],
   "source": [
    "# 문자열 변경 : replace\n",
    "\n",
    "a = \"Life is too short\"\n",
    "a.replace(\"Life\",\"Your leg\")"
   ]
  },
  {
   "cell_type": "code",
   "execution_count": 89,
   "id": "a403c806",
   "metadata": {},
   "outputs": [
    {
     "name": "stdout",
     "output_type": "stream",
     "text": [
      "['a:b:c:d']\n",
      "['a', 'b', 'c', 'd']\n"
     ]
    }
   ],
   "source": [
    "# 문자열 나누기 : split\n",
    "# default : 공백기준\n",
    "\n",
    "print(a.split())\n",
    "\n",
    "a = \"a:b:c:d\"\n",
    "print(a.split(\":\"))\n",
    "\n"
   ]
  },
  {
   "cell_type": "code",
   "execution_count": null,
   "id": "43385a40",
   "metadata": {},
   "outputs": [
    {
     "name": "stdout",
     "output_type": "stream",
     "text": [
      "True\n",
      "False\n",
      "True\n",
      "False\n",
      "False\n",
      "True\n"
     ]
    }
   ],
   "source": [
    "# 문자열 구성 파악\n",
    "\n",
    "print(\"1234\".isdigit())\n",
    "print(\"1234\".isalpha())\n",
    "print(\"1234\".isalnum()) # alpha + num\n",
    "print(\"ABCD\".islower())\n",
    "print(\"abcd\".isupper())\n",
    "print(\"    \".isspace())"
   ]
  },
  {
   "cell_type": "code",
   "execution_count": null,
   "id": "d106d692",
   "metadata": {},
   "outputs": [],
   "source": []
  },
  {
   "cell_type": "code",
   "execution_count": 102,
   "id": "99a22914",
   "metadata": {},
   "outputs": [
    {
     "name": "stdout",
     "output_type": "stream",
     "text": [
      "2030/10/30\n",
      "입력한 날짜의 10년 후 : 2040/10/30\n"
     ]
    }
   ],
   "source": [
    "# 사용자에게 2030/10/30 형태로 입력 받은 후 10년 후 날짜를 계산해서 보여주기\n",
    "\n",
    "date1 = (input(\"날짜입력(년/월/일)\"))\n",
    "print(date1)\n",
    "\n",
    "pos = date1.find(\"/\")\n",
    "year = int(date1[:pos]) + 10\n",
    "\n",
    "# int + str => TypeError: unsupported operand type\n",
    "print(\"입력한 날짜의 10년 후 : %s\" % (str(year) + date1[pos:7] + date1[7:]))"
   ]
  },
  {
   "cell_type": "code",
   "execution_count": 107,
   "id": "4f6a3b97",
   "metadata": {},
   "outputs": [
    {
     "name": "stdout",
     "output_type": "stream",
     "text": [
      "2030\n",
      "10\n",
      "30\n",
      "입력한 날짜의 10년 후 : 2040/10/30\n"
     ]
    }
   ],
   "source": [
    "date = date1.split(\"/\")\n",
    "print(date[0])\n",
    "print(date[1])\n",
    "print(date[2])\n",
    "\n",
    "year = int(date[0]) + 10\n",
    "\n",
    "print(\"입력한 날짜의 10년 후 : %s\" % (str(year) + \"/\" + date[1] + \"/\" + date[2]))"
   ]
  },
  {
   "cell_type": "code",
   "execution_count": 1,
   "id": "9c5a44e7",
   "metadata": {},
   "outputs": [
    {
     "name": "stdout",
     "output_type": "stream",
     "text": [
      "http://naver.com\n",
      "naver\n",
      "na\n",
      "nav51!\n"
     ]
    }
   ],
   "source": [
    "# http://naver.com\n",
    "\n",
    "# 암호생성\n",
    "# 규칙 1 : http:// 부분은 제외\n",
    "# 규칙 2 : 처음 나오는 . 이후 부분은 제외\n",
    "# 규칙 3 : 남은 글자 중 세 자리 + 글자 개수 + 글자 내 'e' 개수 + ! 로 구성\n",
    "\n",
    "\n",
    "url = \"http://naver.com\"\n",
    "print(url)\n",
    "p = url.split(\".\")\n",
    "\n",
    "p = p[0].split(\"//\")\n",
    "print(p[1])\n",
    "p = p[1]\n",
    "\n",
    "print(p[:2])\n",
    "\n",
    "print(p[:3] + str(len(p)) + str(p.count('e')) + \"!\")"
   ]
  },
  {
   "cell_type": "code",
   "execution_count": null,
   "id": "a8765f64",
   "metadata": {},
   "outputs": [],
   "source": []
  }
 ],
 "metadata": {
  "kernelspec": {
   "display_name": "venv",
   "language": "python",
   "name": "python3"
  },
  "language_info": {
   "codemirror_mode": {
    "name": "ipython",
    "version": 3
   },
   "file_extension": ".py",
   "mimetype": "text/x-python",
   "name": "python",
   "nbconvert_exporter": "python",
   "pygments_lexer": "ipython3",
   "version": "3.13.3"
  }
 },
 "nbformat": 4,
 "nbformat_minor": 5
}
