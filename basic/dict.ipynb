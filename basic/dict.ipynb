{
 "cells": [
  {
   "cell_type": "markdown",
   "id": "4108b04a",
   "metadata": {},
   "source": [
    "### 딕셔너리\n",
    "- 자바의 map 과 같은 개념\n",
    "- {key:value}"
   ]
  },
  {
   "cell_type": "code",
   "execution_count": 1,
   "id": "f8291e69",
   "metadata": {},
   "outputs": [],
   "source": [
    "dict1 = {\"name\":\"Kim\", \"age\":12}\n",
    "dict2 = {0:\"Kim\", 1:12}\n",
    "dict3 = {\"arr\":[1,2,3,4,5]}"
   ]
  },
  {
   "cell_type": "code",
   "execution_count": 2,
   "id": "ea6a0ac2",
   "metadata": {},
   "outputs": [
    {
     "name": "stdout",
     "output_type": "stream",
     "text": [
      "{'name': 'Kim', 'age': 12}\n",
      "Kim\n",
      "[1, 2, 3, 4, 5]\n"
     ]
    }
   ],
   "source": [
    "print(dict1)\n",
    "print(dict1[\"name\"])\n",
    "print(dict3[\"arr\"])"
   ]
  },
  {
   "cell_type": "code",
   "execution_count": 3,
   "id": "d5a8c33c",
   "metadata": {},
   "outputs": [
    {
     "name": "stdout",
     "output_type": "stream",
     "text": [
      "{'arr': [1, 2, 3, 4, 5], 'rank': (16, 17, 18)}\n"
     ]
    }
   ],
   "source": [
    "# 추가\n",
    "dict3[\"rank\"] = (16,17,18)\n",
    "print(dict3)\n"
   ]
  },
  {
   "cell_type": "code",
   "execution_count": 4,
   "id": "47304897",
   "metadata": {},
   "outputs": [
    {
     "name": "stdout",
     "output_type": "stream",
     "text": [
      "{1: 3, 2: 3, 6: 4, 8: 1, 4: 2, 3: 4, 9: 1, 5: 2}\n"
     ]
    }
   ],
   "source": [
    "# numbers 내부에 들어있는 숫자가 몇 번 등장하는 지 dixt 구조로 생성\n",
    "numbers = [1,2,6,8,4,3,2,1,9,5,3,6,2,3,5,1,6,4,6,3]\n",
    "counter = {}\n",
    "\n",
    "# {1:3, 2:4, 6:1}\n",
    "for i in numbers:\n",
    "    counter[i] = numbers.count(i)\n",
    "\n",
    "print(counter)\n"
   ]
  },
  {
   "cell_type": "code",
   "execution_count": 5,
   "id": "b8ff60fd",
   "metadata": {},
   "outputs": [
    {
     "name": "stdout",
     "output_type": "stream",
     "text": [
      "{'name': 'Kim'}\n"
     ]
    }
   ],
   "source": [
    "# 삭제\n",
    "\n",
    "del dict1[\"age\"]\n",
    "print(dict1)"
   ]
  },
  {
   "cell_type": "code",
   "execution_count": 6,
   "id": "17226089",
   "metadata": {},
   "outputs": [
    {
     "name": "stdout",
     "output_type": "stream",
     "text": [
      "None\n"
     ]
    }
   ],
   "source": [
    "# get()\n",
    "\n",
    "# print(dict1[\"age\"])   # 에러\n",
    "print(dict1.get(\"age\")) # None"
   ]
  },
  {
   "cell_type": "code",
   "execution_count": 7,
   "id": "7918c6ab",
   "metadata": {},
   "outputs": [
    {
     "name": "stdout",
     "output_type": "stream",
     "text": [
      "dict_keys(['name'])\n",
      "dict_values(['Kim'])\n",
      "dict_items([('name', 'Kim')])\n"
     ]
    }
   ],
   "source": [
    "# keys(), values(), items()\n",
    "\n",
    "print(dict1.keys())     # key 값만 가져오기\n",
    "print(dict1.values())   # value 값만 가져오기\n",
    "print(dict1.items())    # key, value 값 같이 가져오기\n"
   ]
  },
  {
   "cell_type": "code",
   "execution_count": null,
   "id": "273ad97e",
   "metadata": {},
   "outputs": [
    {
     "name": "stdout",
     "output_type": "stream",
     "text": [
      "name\n"
     ]
    }
   ],
   "source": [
    "# key 출력\n",
    "\n",
    "for k in dict1.keys():\n",
    "    print(k)"
   ]
  },
  {
   "cell_type": "code",
   "execution_count": 10,
   "id": "a053a1fe",
   "metadata": {},
   "outputs": [
    {
     "name": "stdout",
     "output_type": "stream",
     "text": [
      "0 Kim\n",
      "1 12\n"
     ]
    }
   ],
   "source": [
    "# key, value 출력\n",
    "\n",
    "for k,v in dict2.items():\n",
    "    print(k,v)"
   ]
  },
  {
   "cell_type": "code",
   "execution_count": 11,
   "id": "716569f7",
   "metadata": {},
   "outputs": [
    {
     "name": "stdout",
     "output_type": "stream",
     "text": [
      "포함됨\n"
     ]
    }
   ],
   "source": [
    "dict4 = {\"봄\":\"딸기\",\"여름\":\"토마토\",\"가을\":\"사과\",\"겨울\":\"바나나\"}\n",
    "\n",
    "# value에 사과가 포함되어있는지 확인\n",
    "for v in dict4.values():\n",
    "    if v == \"사과\":\n",
    "        print(\"포함됨\")\n",
    "        break\n"
   ]
  },
  {
   "cell_type": "code",
   "execution_count": 13,
   "id": "c9bfbf91",
   "metadata": {},
   "outputs": [
    {
     "name": "stdout",
     "output_type": "stream",
     "text": [
      "포함됨\n"
     ]
    }
   ],
   "source": [
    "if \"사과\" in dict4.values():    \n",
    "    print(\"포함됨\")\n",
    "else:\n",
    "    print(\"포함되지 않음\")"
   ]
  },
  {
   "cell_type": "code",
   "execution_count": 14,
   "id": "d815b4a2",
   "metadata": {},
   "outputs": [
    {
     "data": {
      "text/plain": [
       "{'딸기', '바나나', '사과', '토마토'}"
      ]
     },
     "execution_count": 14,
     "metadata": {},
     "output_type": "execute_result"
    }
   ],
   "source": [
    "fruits = {v for v in dict4.values()}\n",
    "fruits"
   ]
  },
  {
   "cell_type": "code",
   "execution_count": 15,
   "id": "1aec00c9",
   "metadata": {},
   "outputs": [
    {
     "data": {
      "text/plain": [
       "['딸기', '토마토', '사과', '바나나']"
      ]
     },
     "execution_count": 15,
     "metadata": {},
     "output_type": "execute_result"
    }
   ],
   "source": [
    "fruits = [v for v in dict4.values()]\n",
    "fruits"
   ]
  },
  {
   "cell_type": "code",
   "execution_count": 16,
   "id": "4c01252b",
   "metadata": {},
   "outputs": [
    {
     "data": {
      "text/plain": [
       "['딸기', '토마토', '바나나']"
      ]
     },
     "execution_count": 16,
     "metadata": {},
     "output_type": "execute_result"
    }
   ],
   "source": [
    "fruits = [v for v in dict4.values() if v != \"사과\"]\n",
    "fruits"
   ]
  },
  {
   "cell_type": "code",
   "execution_count": 17,
   "id": "1aba2447",
   "metadata": {},
   "outputs": [
    {
     "data": {
      "text/plain": [
       "{('겨울', '바나나'), ('봄', '딸기'), ('여름', '토마토')}"
      ]
     },
     "execution_count": 17,
     "metadata": {},
     "output_type": "execute_result"
    }
   ],
   "source": [
    "fruits = {(k,v) for k,v in dict4.items() if v != \"사과\"}\n",
    "fruits"
   ]
  },
  {
   "cell_type": "code",
   "execution_count": 34,
   "id": "70a8b9c0",
   "metadata": {},
   "outputs": [],
   "source": [
    "# 딕셔너리 생성 - dict1 \n",
    "# A:90, B:80, C:70\n",
    "dict1 = {\"A\":90,\"B\":80,\"C\":70}\n"
   ]
  },
  {
   "cell_type": "code",
   "execution_count": 35,
   "id": "c5ec00f3",
   "metadata": {},
   "outputs": [
    {
     "name": "stdout",
     "output_type": "stream",
     "text": [
      "80\n"
     ]
    }
   ],
   "source": [
    "# 생성된 dict1 에서 키가 B인 값만 출력\n",
    "print(dict1.get(\"B\"))"
   ]
  },
  {
   "cell_type": "code",
   "execution_count": 36,
   "id": "c54ce328",
   "metadata": {},
   "outputs": [],
   "source": [
    "# 딕셔너리 생성 - dict2\n",
    "# 성인:10000, 청소년:7000, 아동:3000\n",
    "\n",
    "dict2 = {\"성인\":10000, \"청소년\":7000, \"아동\":3000}"
   ]
  },
  {
   "cell_type": "code",
   "execution_count": 37,
   "id": "7db95c16",
   "metadata": {},
   "outputs": [
    {
     "name": "stdout",
     "output_type": "stream",
     "text": [
      "dict_keys(['성인', '청소년', '아동', '소아'])\n",
      "dict_values([10000, 7000, 3000, 0])\n"
     ]
    }
   ],
   "source": [
    "# dict2에 새로운 요소 추가\n",
    "# 소아 : 0\n",
    "dict2[\"소아\"] = 0\n",
    "\n",
    "# key 항목만 출력\n",
    "print(dict2.keys())\n",
    "\n",
    "# value 항목만 출력\n",
    "print(dict2.values())\n",
    "\n"
   ]
  },
  {
   "cell_type": "code",
   "execution_count": null,
   "id": "26ec837a",
   "metadata": {},
   "outputs": [],
   "source": []
  }
 ],
 "metadata": {
  "kernelspec": {
   "display_name": "venv",
   "language": "python",
   "name": "python3"
  },
  "language_info": {
   "codemirror_mode": {
    "name": "ipython",
    "version": 3
   },
   "file_extension": ".py",
   "mimetype": "text/x-python",
   "name": "python",
   "nbconvert_exporter": "python",
   "pygments_lexer": "ipython3",
   "version": "3.13.3"
  }
 },
 "nbformat": 4,
 "nbformat_minor": 5
}
