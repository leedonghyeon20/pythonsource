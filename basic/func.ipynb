{
 "cells": [
  {
   "cell_type": "markdown",
   "id": "a04f22c1",
   "metadata": {},
   "source": [
    "### 함수\n",
    "```\n",
    "def 함수명(매개변수):\n",
    "    수행할문자1\n",
    "    수행할문자2\n",
    "```"
   ]
  },
  {
   "cell_type": "code",
   "execution_count": 2,
   "id": "af67aceb",
   "metadata": {},
   "outputs": [],
   "source": [
    "def add(a,b):\n",
    "    return a+b"
   ]
  },
  {
   "cell_type": "code",
   "execution_count": 3,
   "id": "cb8fbd7f",
   "metadata": {},
   "outputs": [
    {
     "name": "stdout",
     "output_type": "stream",
     "text": [
      "26\n"
     ]
    }
   ],
   "source": [
    "print(add(5,21))"
   ]
  },
  {
   "cell_type": "code",
   "execution_count": 4,
   "id": "d252e02f",
   "metadata": {},
   "outputs": [
    {
     "name": "stdout",
     "output_type": "stream",
     "text": [
      "Hi\n"
     ]
    }
   ],
   "source": [
    "def say():\n",
    "    return \"Hi\"\n",
    "\n",
    "print(say())"
   ]
  },
  {
   "cell_type": "code",
   "execution_count": 5,
   "id": "92be4547",
   "metadata": {},
   "outputs": [
    {
     "name": "stdout",
     "output_type": "stream",
     "text": [
      "23\n"
     ]
    }
   ],
   "source": [
    "print(add(a=7, b=16))"
   ]
  },
  {
   "cell_type": "code",
   "execution_count": 6,
   "id": "230348ff",
   "metadata": {},
   "outputs": [],
   "source": [
    "# 기본 매개변수\n",
    "\n",
    "def print_n_times(value, n=2):\n",
    "    for i in range(n):\n",
    "        print(value)"
   ]
  },
  {
   "cell_type": "code",
   "execution_count": 8,
   "id": "e184c25e",
   "metadata": {},
   "outputs": [
    {
     "name": "stdout",
     "output_type": "stream",
     "text": [
      "안녕하세요\n",
      "안녕하세요\n",
      "안녕하세요\n",
      "안녕하세요\n",
      "안녕하세요\n"
     ]
    }
   ],
   "source": [
    "print_n_times(\"안녕하세요\",5)"
   ]
  },
  {
   "cell_type": "code",
   "execution_count": null,
   "id": "4086df31",
   "metadata": {},
   "outputs": [],
   "source": [
    "# 가변 매개변수 : *args\n",
    "# 가변 매개변수 뒤에는 일반 매개변수가 올 수 없음\n",
    "# 가변 매개변수는 하나만 사용\n",
    "\n",
    "def add_many(*args):\n",
    "    print(args)\n",
    "\n",
    "# def add_many2(*args,n):\n",
    "#     print(args)"
   ]
  },
  {
   "cell_type": "code",
   "execution_count": 14,
   "id": "687334a5",
   "metadata": {},
   "outputs": [
    {
     "name": "stdout",
     "output_type": "stream",
     "text": [
      "()\n",
      "('35', '24', '45')\n",
      "('A', 'b', 'C', 'D')\n",
      "([1, 2, 3, 4, 5],)\n"
     ]
    }
   ],
   "source": [
    "add_many()\n",
    "add_many(\"35\",\"24\",\"45\")\n",
    "add_many(\"A\",\"b\",\"C\",\"D\")\n",
    "add_many([1,2,3,4,5])\n",
    "# add_many2([1,2,3,4,5],33)\n"
   ]
  },
  {
   "cell_type": "code",
   "execution_count": 16,
   "id": "58f93b11",
   "metadata": {},
   "outputs": [],
   "source": [
    "def add_mul(choice, *args):\n",
    "    if choice == \"add\":\n",
    "        result = 0\n",
    "        for i in args:\n",
    "            result = result + i\n",
    "    elif choice == \"mul\":\n",
    "        result = 1\n",
    "        for i in args:\n",
    "            result = result * i\n",
    "    return result"
   ]
  },
  {
   "cell_type": "code",
   "execution_count": 19,
   "id": "7409f902",
   "metadata": {},
   "outputs": [
    {
     "name": "stdout",
     "output_type": "stream",
     "text": [
      "46\n",
      "17160\n"
     ]
    }
   ],
   "source": [
    "print(add_mul(\"add\", 10,11,12,13))\n",
    "print(add_mul(\"mul\", 10,11,12,13))"
   ]
  },
  {
   "cell_type": "code",
   "execution_count": 20,
   "id": "48f943f3",
   "metadata": {},
   "outputs": [],
   "source": [
    "# 키워드 매개변수 : **kwargs\n",
    "# 매개변수를 딕셔너리 형태로 처리\n",
    "\n",
    "def args_func1(**kwargs):\n",
    "    print(kwargs)\n",
    "    for k in kwargs.keys():\n",
    "        print(k)\n",
    "    for v in kwargs.values():\n",
    "        print(v)"
   ]
  },
  {
   "cell_type": "code",
   "execution_count": 21,
   "id": "ada5b9b9",
   "metadata": {},
   "outputs": [
    {
     "name": "stdout",
     "output_type": "stream",
     "text": [
      "{'name': 'Kim'}\n",
      "name\n",
      "Kim\n",
      "{'name': 'Kim', 'age': 15, 'active': 'Test'}\n",
      "name\n",
      "age\n",
      "active\n",
      "Kim\n",
      "15\n",
      "Test\n",
      "{'name': 'Kim', 'year': 2025}\n",
      "name\n",
      "year\n",
      "Kim\n",
      "2025\n"
     ]
    }
   ],
   "source": [
    "args_func1(name=\"Kim\")\n",
    "args_func1(name=\"Kim\", age=15, active=\"Test\")\n",
    "args_func1(name=\"Kim\", year=2025)"
   ]
  },
  {
   "cell_type": "code",
   "execution_count": 22,
   "id": "6951c525",
   "metadata": {},
   "outputs": [],
   "source": [
    "def example_mul(arg1, arg2=5, *args, **kwargs):\n",
    "    print(arg1, arg2, args, kwargs)"
   ]
  },
  {
   "cell_type": "code",
   "execution_count": 23,
   "id": "4dc2daa9",
   "metadata": {},
   "outputs": [
    {
     "name": "stdout",
     "output_type": "stream",
     "text": [
      "10 20 () {}\n",
      "10 5 () {}\n",
      "10 15 ('park', 'kim') {}\n",
      "10 15 ('park', 'kim') {'age': 25, 'name': 'choi'}\n"
     ]
    }
   ],
   "source": [
    "example_mul(10,20)\n",
    "example_mul(10)\n",
    "example_mul(10,15,\"park\",\"kim\")\n",
    "example_mul(10,15,\"park\",\"kim\",age=25,name=\"choi\")"
   ]
  },
  {
   "cell_type": "code",
   "execution_count": null,
   "id": "e2e2b34f",
   "metadata": {},
   "outputs": [],
   "source": [
    "# 다중리턴처럼 보이긴 하지만 tuple 로 리턴(리턴값은)\n",
    "\n",
    "def func(a, b):\n",
    "    return a+b, a*b"
   ]
  },
  {
   "cell_type": "code",
   "execution_count": null,
   "id": "6aff4d0e",
   "metadata": {},
   "outputs": [
    {
     "name": "stdout",
     "output_type": "stream",
     "text": [
      "(30, 200)\n"
     ]
    }
   ],
   "source": [
    "print(func(10,20))"
   ]
  },
  {
   "cell_type": "code",
   "execution_count": 28,
   "id": "a737f6ff",
   "metadata": {},
   "outputs": [],
   "source": [
    "def func2(a, b):\n",
    "    return [a+b, a*b, a-b]"
   ]
  },
  {
   "cell_type": "code",
   "execution_count": 29,
   "id": "4afa6fce",
   "metadata": {},
   "outputs": [
    {
     "name": "stdout",
     "output_type": "stream",
     "text": [
      "[30, 200, -10]\n"
     ]
    }
   ],
   "source": [
    "print(func2(10,20))"
   ]
  },
  {
   "cell_type": "code",
   "execution_count": 34,
   "id": "9f5d16ab",
   "metadata": {},
   "outputs": [],
   "source": [
    "# 두 개의 숫자와 연산자를 입력받아 사칙연산(+,-,*,/)의 결과를 리턴하는 함수 작성\n",
    "\n",
    "def fourRules(num1,op,num2):\n",
    "    result = 0\n",
    "    if op == \"+\":\n",
    "        result = num1 + num2\n",
    "    elif op == \"-\":\n",
    "        result = num1 - num2\n",
    "    elif op == \"*\":\n",
    "        result = num1 * num2\n",
    "    elif op == \"/\":\n",
    "        result = num1 / num2 \n",
    "    return result\n"
   ]
  },
  {
   "cell_type": "code",
   "execution_count": 36,
   "id": "d6385903",
   "metadata": {},
   "outputs": [
    {
     "name": "stdout",
     "output_type": "stream",
     "text": [
      "372\n"
     ]
    }
   ],
   "source": [
    "a = int(input(\"num1\"))\n",
    "b = input(\"op\")\n",
    "c = int(input(\"num1\"))\n",
    "\n",
    "print(fourRules(a,b,c))"
   ]
  },
  {
   "cell_type": "code",
   "execution_count": 40,
   "id": "05d5b30e",
   "metadata": {},
   "outputs": [],
   "source": [
    "# 람다함수\n",
    "# 익명함수\n",
    "\n",
    "def square(x):\n",
    "    return x**2\n",
    "\n",
    "square2 = lambda x:x**2"
   ]
  },
  {
   "cell_type": "code",
   "execution_count": 39,
   "id": "97754adc",
   "metadata": {},
   "outputs": [
    {
     "name": "stdout",
     "output_type": "stream",
     "text": [
      "25\n"
     ]
    }
   ],
   "source": [
    "print(square(5))"
   ]
  },
  {
   "cell_type": "code",
   "execution_count": 41,
   "id": "ca54ee5f",
   "metadata": {},
   "outputs": [
    {
     "name": "stdout",
     "output_type": "stream",
     "text": [
      "<class 'function'>\n"
     ]
    }
   ],
   "source": [
    "print(type(square2))"
   ]
  },
  {
   "cell_type": "code",
   "execution_count": 42,
   "id": "199c0711",
   "metadata": {},
   "outputs": [
    {
     "name": "stdout",
     "output_type": "stream",
     "text": [
      "49\n"
     ]
    }
   ],
   "source": [
    "print(square2(7))"
   ]
  },
  {
   "cell_type": "code",
   "execution_count": 44,
   "id": "c59ee807",
   "metadata": {},
   "outputs": [],
   "source": [
    "def add(a,b):\n",
    "    return a+b\n",
    "\n",
    "add2 = lambda a,b:a+b"
   ]
  },
  {
   "cell_type": "code",
   "execution_count": 45,
   "id": "507473e8",
   "metadata": {},
   "outputs": [
    {
     "name": "stdout",
     "output_type": "stream",
     "text": [
      "61\n"
     ]
    }
   ],
   "source": [
    "print(add2(15,46))"
   ]
  },
  {
   "cell_type": "code",
   "execution_count": null,
   "id": "b268d9b2",
   "metadata": {},
   "outputs": [
    {
     "name": "stdout",
     "output_type": "stream",
     "text": [
      "['bob', 'charles', 'alexander3', 'teddy']\n",
      "['alexander3', 'bob', 'charles', 'teddy']\n"
     ]
    }
   ],
   "source": [
    "list1 = [\"bob\",\"charles\",\"alexander3\",\"teddy\"]\n",
    "\n",
    "print(list1)\n",
    "list1.sort() # 알파벳 순서 오름차순\n",
    "print(list1)\n"
   ]
  },
  {
   "cell_type": "code",
   "execution_count": null,
   "id": "2fa9fcd3",
   "metadata": {},
   "outputs": [
    {
     "data": {
      "text/plain": [
       "['bob', 'teddy', 'charles', 'alexander3']"
      ]
     },
     "execution_count": 47,
     "metadata": {},
     "output_type": "execute_result"
    }
   ],
   "source": [
    "# 문자의 길이가 짧은 순서대로 정렬\n",
    "def str_len(s):\n",
    "    return len(s)\n",
    "\n",
    "\n",
    "list1.sort(key=str_len)\n",
    "list1\n"
   ]
  },
  {
   "cell_type": "code",
   "execution_count": 49,
   "id": "48bde097",
   "metadata": {},
   "outputs": [
    {
     "data": {
      "text/plain": [
       "['bob', 'teddy', 'charles', 'alexander3']"
      ]
     },
     "execution_count": 49,
     "metadata": {},
     "output_type": "execute_result"
    }
   ],
   "source": [
    "list1 = [\"bob\",\"charles\",\"alexander3\",\"teddy\"]\n",
    "\n",
    "list1.sort(key = lambda s:len(s))\n",
    "list1"
   ]
  },
  {
   "cell_type": "code",
   "execution_count": 54,
   "id": "634f0aec",
   "metadata": {},
   "outputs": [
    {
     "name": "stdout",
     "output_type": "stream",
     "text": [
      "[2, 4, 10, 12, 14]\n"
     ]
    }
   ],
   "source": [
    "# filter, map : 실행 우 새로운 리스트로 반환\n",
    "\n",
    "list1 = [1,2,3,4,5,7,9,10,12,14]\n",
    "\n",
    "# list1에서 짝수만 추출한 후 새로운 리스트로 생성\n",
    "list2 = [x for x in list1 if x % 2 == 0]\n",
    "print(list2)\n",
    "\n",
    "def even(data):\n",
    "    return [x for x in data if x % 2 == 0]\n"
   ]
  },
  {
   "cell_type": "code",
   "execution_count": 56,
   "id": "f77a1504",
   "metadata": {},
   "outputs": [
    {
     "name": "stdout",
     "output_type": "stream",
     "text": [
      "[2, 64, 34, 78]\n",
      "[2, 4, 10, 12, 14]\n"
     ]
    }
   ],
   "source": [
    "print(even([2,1,5,64,1,34,1,5,67,17,78]))\n",
    "print(even(list1))"
   ]
  },
  {
   "cell_type": "code",
   "execution_count": 58,
   "id": "a1db2d05",
   "metadata": {},
   "outputs": [
    {
     "data": {
      "text/plain": [
       "[2, 4, 10, 12, 14]"
      ]
     },
     "execution_count": 58,
     "metadata": {},
     "output_type": "execute_result"
    }
   ],
   "source": [
    "# filter(함수, 필터적용할 리스트)\n",
    "def even(n):\n",
    "    return n % 2 == 0\n",
    "\n",
    "list(filter(even, list1))"
   ]
  },
  {
   "cell_type": "code",
   "execution_count": 59,
   "id": "c3c083a9",
   "metadata": {},
   "outputs": [
    {
     "data": {
      "text/plain": [
       "[2, 4, 10, 12, 14]"
      ]
     },
     "execution_count": 59,
     "metadata": {},
     "output_type": "execute_result"
    }
   ],
   "source": [
    "list(filter(lambda n:n%2==0, list1))\n"
   ]
  },
  {
   "cell_type": "code",
   "execution_count": 60,
   "id": "6e6a7a50",
   "metadata": {},
   "outputs": [
    {
     "data": {
      "text/plain": [
       "[1, 4, 9, 16, 25, 49, 81, 100, 144, 196]"
      ]
     },
     "execution_count": 60,
     "metadata": {},
     "output_type": "execute_result"
    }
   ],
   "source": [
    "# map(함수, 리스트)\n",
    "def mul(x):\n",
    "    return x ** 2\n",
    "\n",
    "list(map(mul, list1))"
   ]
  },
  {
   "cell_type": "code",
   "execution_count": 61,
   "id": "541c85e2",
   "metadata": {},
   "outputs": [
    {
     "data": {
      "text/plain": [
       "[1, 4, 9, 16, 25, 49, 81, 100, 144, 196]"
      ]
     },
     "execution_count": 61,
     "metadata": {},
     "output_type": "execute_result"
    }
   ],
   "source": [
    "list(map(lambda x:x**2, list1))"
   ]
  },
  {
   "cell_type": "code",
   "execution_count": null,
   "id": "5735ac9d",
   "metadata": {},
   "outputs": [],
   "source": []
  }
 ],
 "metadata": {
  "kernelspec": {
   "display_name": "venv",
   "language": "python",
   "name": "python3"
  },
  "language_info": {
   "codemirror_mode": {
    "name": "ipython",
    "version": 3
   },
   "file_extension": ".py",
   "mimetype": "text/x-python",
   "name": "python",
   "nbconvert_exporter": "python",
   "pygments_lexer": "ipython3",
   "version": "3.13.3"
  }
 },
 "nbformat": 4,
 "nbformat_minor": 5
}
