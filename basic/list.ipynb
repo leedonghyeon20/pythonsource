{
 "cells": [
  {
   "cell_type": "markdown",
   "id": "72b61326",
   "metadata": {},
   "source": [
    "#### 리스트\n",
    "- java/javascript 의 배열과 개념 동일\n",
    "- javascript의 배열과 동작방식 동일함(데이터를 여러 타입을 담을 수 있음)"
   ]
  },
  {
   "cell_type": "code",
   "execution_count": 43,
   "id": "a77386ab",
   "metadata": {},
   "outputs": [],
   "source": [
    "# 리스트 생성\n",
    "# list()\n",
    "\n",
    "list1 = []\n",
    "list2 = [\"a\",\"b\",\"c\",1,2,3]\n",
    "list3 = [1,2,3,4,5.5,6.5]\n",
    "list4 = [1,2,[\"Life\",\"is\",\"short\"]] # 2차원 리스트\n",
    "list5 = list('34') "
   ]
  },
  {
   "cell_type": "code",
   "execution_count": 44,
   "id": "98cd93d8",
   "metadata": {},
   "outputs": [
    {
     "name": "stdout",
     "output_type": "stream",
     "text": [
      "[]\n",
      "['a', 'b', 'c', 1, 2, 3]\n",
      "[1, 2, 3, 4, 5.5, 6.5]\n",
      "[1, 2, ['Life', 'is', 'short']]\n",
      "['3', '4']\n"
     ]
    }
   ],
   "source": [
    "print(list1)\n",
    "print(list2)\n",
    "print(list3)\n",
    "print(list4)\n",
    "print(list5)"
   ]
  },
  {
   "cell_type": "markdown",
   "id": "4c712e26",
   "metadata": {},
   "source": [
    "리스트 인덱싱과 슬라이싱"
   ]
  },
  {
   "cell_type": "code",
   "execution_count": 9,
   "id": "41aef0a0",
   "metadata": {},
   "outputs": [
    {
     "name": "stdout",
     "output_type": "stream",
     "text": [
      "a\n",
      "['Life', 'is', 'short']\n",
      "['Life', 'is', 'short']\n",
      "Life\n",
      "4\n"
     ]
    }
   ],
   "source": [
    "print(list2[0])\n",
    "print(list4[2])\n",
    "print(list4[-1])\n",
    "print(list4[-1][0])\n",
    "print(list5[-1])"
   ]
  },
  {
   "cell_type": "code",
   "execution_count": 12,
   "id": "055009ce",
   "metadata": {},
   "outputs": [
    {
     "name": "stdout",
     "output_type": "stream",
     "text": [
      "earl\n",
      "earl\n"
     ]
    }
   ],
   "source": [
    "list6 = [1,2,[\"a\",\"b\",[\"earl\", \"sweatshirt\"]]]\n",
    "\n",
    "# earl 글자 출력\n",
    "print(list6[2][2][0])\n",
    "print(list6[-1][-1][0])\n"
   ]
  },
  {
   "cell_type": "code",
   "execution_count": 42,
   "id": "eb871d8d",
   "metadata": {},
   "outputs": [
    {
     "name": "stdout",
     "output_type": "stream",
     "text": [
      "['a']\n",
      "['a']\n",
      "[]\n",
      "[1, 2, ['Life', 'is', 'short']]\n",
      "['Life', 'is']\n"
     ]
    }
   ],
   "source": [
    "print(list2)\n",
    "print(list2[:2])\n",
    "print(list2[2:])\n",
    "\n",
    "print(list4)\n",
    "print(list4[2][:2])"
   ]
  },
  {
   "cell_type": "code",
   "execution_count": 20,
   "id": "2921b73e",
   "metadata": {},
   "outputs": [
    {
     "name": "stdout",
     "output_type": "stream",
     "text": [
      "['a', 'b', 'c', 1, 2, 3, 1, 2, 3, 4, 5.5, 6.5]\n",
      "['a', 'b', 'c', 1, 2, 3, 'a', 'b', 'c', 1, 2, 3, 'a', 'b', 'c', 1, 2, 3]\n"
     ]
    }
   ],
   "source": [
    "# + (연결) / *\n",
    "\n",
    "print(list2 + list3)\n",
    "print(list2 * 3)"
   ]
  },
  {
   "cell_type": "code",
   "execution_count": 45,
   "id": "754041a5",
   "metadata": {},
   "outputs": [
    {
     "name": "stdout",
     "output_type": "stream",
     "text": [
      "['a', 'd', 'c', 1, 2, 3]\n",
      "['a', 10, 11, 12, 'c', 1, 2, 3]\n",
      "['a', [15, 16, 17], 11, 12, 'c', 1, 2, 3]\n"
     ]
    }
   ],
   "source": [
    "list2[1] = 'd'\n",
    "print(list2)\n",
    "\n",
    "list2[1:2] = [10, 11, 12] # 범위지정 : 풀어서 삽입\n",
    "print(list2)\n",
    "\n",
    "list2[1] = [15,16,17] # 위치지정 : 2차원으로 삽입\n",
    "print(list2)"
   ]
  },
  {
   "cell_type": "code",
   "execution_count": 46,
   "id": "164fca37",
   "metadata": {},
   "outputs": [
    {
     "name": "stdout",
     "output_type": "stream",
     "text": [
      "['a', 11, 12, 'c', 1, 2, 3]\n"
     ]
    }
   ],
   "source": [
    "# 리스트 요소 삭제\n",
    "\n",
    "del list2[1]\n",
    "print(list2)\n"
   ]
  },
  {
   "cell_type": "code",
   "execution_count": 48,
   "id": "e875067f",
   "metadata": {},
   "outputs": [
    {
     "data": {
      "text/plain": [
       "7"
      ]
     },
     "execution_count": 48,
     "metadata": {},
     "output_type": "execute_result"
    }
   ],
   "source": [
    "# len() : 길이\n",
    "len(list2)"
   ]
  },
  {
   "cell_type": "code",
   "execution_count": 53,
   "id": "e3a7b99d",
   "metadata": {},
   "outputs": [
    {
     "name": "stdout",
     "output_type": "stream",
     "text": [
      "a 11 12 c 1 2 3 "
     ]
    }
   ],
   "source": [
    "for i in list2:\n",
    "    print(i,end=\" \")"
   ]
  },
  {
   "cell_type": "markdown",
   "id": "ca9c7315",
   "metadata": {},
   "source": [
    "리스트 함수"
   ]
  },
  {
   "cell_type": "code",
   "execution_count": null,
   "id": "74a485a8",
   "metadata": {},
   "outputs": [
    {
     "data": {
      "text/plain": [
       "['3', '4', '5', '5', [6, 7, 8]]"
      ]
     },
     "execution_count": 56,
     "metadata": {},
     "output_type": "execute_result"
    }
   ],
   "source": [
    "# append() : 리스트 뒤에 요소 추가\n",
    "list5.append('5')\n",
    "# list5.append('5','6',7) append()의 요소는 한 개\n",
    "list5.append([6,7,8])\n",
    "list5"
   ]
  },
  {
   "cell_type": "code",
   "execution_count": 62,
   "id": "398d9c81",
   "metadata": {},
   "outputs": [
    {
     "name": "stdout",
     "output_type": "stream",
     "text": [
      "[2, 4, 6, 8, 10, 12, 14, 16, 18, 20, 22, 24, 26, 28, 30, 32, 34, 36, 38, 40, 42, 44, 46, 48, 50, 52, 54, 56, 58, 60, 62, 64, 66, 68, 70, 72, 74, 76, 78, 80, 82, 84, 86, 88, 90, 92, 94, 96, 98, 100]\n"
     ]
    }
   ],
   "source": [
    "# 1 ~ 100 숫자 중에서 짝수만 리스트로 생성\n",
    "# range(시작, 종료, 증감) : 종료는 포함안함\n",
    "\n",
    "even = []\n",
    "for i in range(2, 101, 2):\n",
    "    even.append(i)\n",
    "\n",
    "print(even)"
   ]
  },
  {
   "cell_type": "code",
   "execution_count": null,
   "id": "0aa85720",
   "metadata": {},
   "outputs": [
    {
     "data": {
      "text/plain": [
       "[1, 2, 3, 4]"
      ]
     },
     "execution_count": 64,
     "metadata": {},
     "output_type": "execute_result"
    }
   ],
   "source": [
    "# 리스트 원본 정렬 : sort() - 오름차순\n",
    "\n",
    "list1 = [1,4,3,2]\n",
    "list1.sort()\n",
    "list1"
   ]
  },
  {
   "cell_type": "code",
   "execution_count": 68,
   "id": "2c34ca01",
   "metadata": {},
   "outputs": [
    {
     "data": {
      "text/plain": [
       "['c', 'd', 't', 'w', 'z']"
      ]
     },
     "execution_count": 68,
     "metadata": {},
     "output_type": "execute_result"
    }
   ],
   "source": [
    "# list2.sort() 섞여있는 형태는 정렬 안 됨\n",
    "list2 = ['z','w','t','c','d']\n",
    "list2.sort()\n",
    "list2"
   ]
  },
  {
   "cell_type": "code",
   "execution_count": 70,
   "id": "279ec3d2",
   "metadata": {},
   "outputs": [
    {
     "data": {
      "text/plain": [
       "['A', 'M', 'V', 'c', 'd', 't', 'w', 'z']"
      ]
     },
     "execution_count": 70,
     "metadata": {},
     "output_type": "execute_result"
    }
   ],
   "source": [
    "list2 = ['z','M','w','A','t','c','V','d']\n",
    "list2.sort() # 대문자 => 소문자\n",
    "list2"
   ]
  },
  {
   "cell_type": "code",
   "execution_count": 72,
   "id": "bfa9d45a",
   "metadata": {},
   "outputs": [
    {
     "name": "stdout",
     "output_type": "stream",
     "text": [
      "정렬 전  ['z', 'w', 't', 'd', 'c', 'V', 'M', 'A']\n",
      "정렬 후  ['z', 'w', 't', 'd', 'c', 'V', 'M', 'A']\n"
     ]
    }
   ],
   "source": [
    "# sort(reverse = True) => 내림차순(desc)\n",
    "print(\"정렬 전 \", list2)\n",
    "list2.sort(reverse = True)\n",
    "print(\"정렬 후 \", list2)\n",
    "\n",
    "\n",
    "\n"
   ]
  },
  {
   "cell_type": "code",
   "execution_count": 139,
   "id": "592f16c5",
   "metadata": {},
   "outputs": [
    {
     "name": "stdout",
     "output_type": "stream",
     "text": [
      "[6.5, 5.5, 4, 3, 2, 1]\n",
      "[1, 2, 3, 4, 5.5, 6.5]\n"
     ]
    }
   ],
   "source": [
    "# reverse() : 리스트 뒤집기\n",
    "\n",
    "print(list3)\n",
    "list3.reverse()\n",
    "print(list3)\n"
   ]
  },
  {
   "cell_type": "code",
   "execution_count": null,
   "id": "3de76bed",
   "metadata": {},
   "outputs": [],
   "source": []
  }
 ],
 "metadata": {
  "kernelspec": {
   "display_name": "venv",
   "language": "python",
   "name": "python3"
  },
  "language_info": {
   "codemirror_mode": {
    "name": "ipython",
    "version": 3
   },
   "file_extension": ".py",
   "mimetype": "text/x-python",
   "name": "python",
   "nbconvert_exporter": "python",
   "pygments_lexer": "ipython3",
   "version": "3.13.3"
  }
 },
 "nbformat": 4,
 "nbformat_minor": 5
}
