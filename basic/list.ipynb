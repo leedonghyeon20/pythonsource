{
 "cells": [
  {
   "cell_type": "markdown",
   "id": "72b61326",
   "metadata": {},
   "source": [
    "#### 리스트\n",
    "- java/javascript 의 배열과 개념 동일\n",
    "- javascript의 배열과 동작방식 동일함(데이터를 여러 타입을 담을 수 있음)"
   ]
  },
  {
   "cell_type": "code",
   "execution_count": 1,
   "id": "a77386ab",
   "metadata": {},
   "outputs": [],
   "source": [
    "# 리스트 생성\n",
    "# list()\n",
    "\n",
    "list1 = []\n",
    "list2 = [\"a\",\"b\",\"c\",1,2,3]\n",
    "list3 = [1,2,3,4,5.5,6.5]\n",
    "list4 = [1,2,[\"Life\",\"is\",\"short\"]] # 2차원 리스트\n",
    "list5 = list('34') "
   ]
  },
  {
   "cell_type": "code",
   "execution_count": 2,
   "id": "98cd93d8",
   "metadata": {},
   "outputs": [
    {
     "name": "stdout",
     "output_type": "stream",
     "text": [
      "[]\n",
      "['a', 'b', 'c', 1, 2, 3]\n",
      "[1, 2, 3, 4, 5.5, 6.5]\n",
      "[1, 2, ['Life', 'is', 'short']]\n",
      "['3', '4']\n"
     ]
    }
   ],
   "source": [
    "print(list1)\n",
    "print(list2)\n",
    "print(list3)\n",
    "print(list4)\n",
    "print(list5)"
   ]
  },
  {
   "cell_type": "markdown",
   "id": "4c712e26",
   "metadata": {},
   "source": [
    "리스트 인덱싱과 슬라이싱"
   ]
  },
  {
   "cell_type": "code",
   "execution_count": 9,
   "id": "41aef0a0",
   "metadata": {},
   "outputs": [
    {
     "name": "stdout",
     "output_type": "stream",
     "text": [
      "a\n",
      "['Life', 'is', 'short']\n",
      "['Life', 'is', 'short']\n",
      "Life\n",
      "4\n"
     ]
    }
   ],
   "source": [
    "print(list2[0])\n",
    "print(list4[2])\n",
    "print(list4[-1])\n",
    "print(list4[-1][0])\n",
    "print(list5[-1])"
   ]
  },
  {
   "cell_type": "code",
   "execution_count": 12,
   "id": "055009ce",
   "metadata": {},
   "outputs": [
    {
     "name": "stdout",
     "output_type": "stream",
     "text": [
      "earl\n",
      "earl\n"
     ]
    }
   ],
   "source": [
    "list6 = [1,2,[\"a\",\"b\",[\"earl\", \"sweatshirt\"]]]\n",
    "\n",
    "# earl 글자 출력\n",
    "print(list6[2][2][0])\n",
    "print(list6[-1][-1][0])\n"
   ]
  },
  {
   "cell_type": "code",
   "execution_count": 42,
   "id": "eb871d8d",
   "metadata": {},
   "outputs": [
    {
     "name": "stdout",
     "output_type": "stream",
     "text": [
      "['a']\n",
      "['a']\n",
      "[]\n",
      "[1, 2, ['Life', 'is', 'short']]\n",
      "['Life', 'is']\n"
     ]
    }
   ],
   "source": [
    "print(list2)\n",
    "print(list2[:2])\n",
    "print(list2[2:])\n",
    "\n",
    "print(list4)\n",
    "print(list4[2][:2])"
   ]
  },
  {
   "cell_type": "code",
   "execution_count": 20,
   "id": "2921b73e",
   "metadata": {},
   "outputs": [
    {
     "name": "stdout",
     "output_type": "stream",
     "text": [
      "['a', 'b', 'c', 1, 2, 3, 1, 2, 3, 4, 5.5, 6.5]\n",
      "['a', 'b', 'c', 1, 2, 3, 'a', 'b', 'c', 1, 2, 3, 'a', 'b', 'c', 1, 2, 3]\n"
     ]
    }
   ],
   "source": [
    "# + (연결) / *\n",
    "\n",
    "print(list2 + list3)\n",
    "print(list2 * 3)"
   ]
  },
  {
   "cell_type": "code",
   "execution_count": 45,
   "id": "754041a5",
   "metadata": {},
   "outputs": [
    {
     "name": "stdout",
     "output_type": "stream",
     "text": [
      "['a', 'd', 'c', 1, 2, 3]\n",
      "['a', 10, 11, 12, 'c', 1, 2, 3]\n",
      "['a', [15, 16, 17], 11, 12, 'c', 1, 2, 3]\n"
     ]
    }
   ],
   "source": [
    "list2[1] = 'd'\n",
    "print(list2)\n",
    "\n",
    "list2[1:2] = [10, 11, 12] # 범위지정 : 풀어서 삽입\n",
    "print(list2)\n",
    "\n",
    "list2[1] = [15,16,17] # 위치지정 : 2차원으로 삽입\n",
    "print(list2)"
   ]
  },
  {
   "cell_type": "code",
   "execution_count": 46,
   "id": "164fca37",
   "metadata": {},
   "outputs": [
    {
     "name": "stdout",
     "output_type": "stream",
     "text": [
      "['a', 11, 12, 'c', 1, 2, 3]\n"
     ]
    }
   ],
   "source": [
    "# 리스트 요소 삭제\n",
    "\n",
    "del list2[1]\n",
    "print(list2)\n"
   ]
  },
  {
   "cell_type": "code",
   "execution_count": 48,
   "id": "e875067f",
   "metadata": {},
   "outputs": [
    {
     "data": {
      "text/plain": [
       "7"
      ]
     },
     "execution_count": 48,
     "metadata": {},
     "output_type": "execute_result"
    }
   ],
   "source": [
    "# len() : 길이\n",
    "len(list2)"
   ]
  },
  {
   "cell_type": "code",
   "execution_count": 53,
   "id": "e3a7b99d",
   "metadata": {},
   "outputs": [
    {
     "name": "stdout",
     "output_type": "stream",
     "text": [
      "a 11 12 c 1 2 3 "
     ]
    }
   ],
   "source": [
    "for i in list2:\n",
    "    print(i,end=\" \")"
   ]
  },
  {
   "cell_type": "markdown",
   "id": "ca9c7315",
   "metadata": {},
   "source": [
    "리스트 함수"
   ]
  },
  {
   "cell_type": "code",
   "execution_count": null,
   "id": "74a485a8",
   "metadata": {},
   "outputs": [
    {
     "data": {
      "text/plain": [
       "['3', '4', '5', '5', [6, 7, 8]]"
      ]
     },
     "execution_count": 56,
     "metadata": {},
     "output_type": "execute_result"
    }
   ],
   "source": [
    "# append() : 리스트 뒤에 요소 추가\n",
    "list5.append('5')\n",
    "# list5.append('5','6',7) append()의 요소는 한 개\n",
    "list5.append([6,7,8])\n",
    "list5"
   ]
  },
  {
   "cell_type": "code",
   "execution_count": 62,
   "id": "398d9c81",
   "metadata": {},
   "outputs": [
    {
     "name": "stdout",
     "output_type": "stream",
     "text": [
      "[2, 4, 6, 8, 10, 12, 14, 16, 18, 20, 22, 24, 26, 28, 30, 32, 34, 36, 38, 40, 42, 44, 46, 48, 50, 52, 54, 56, 58, 60, 62, 64, 66, 68, 70, 72, 74, 76, 78, 80, 82, 84, 86, 88, 90, 92, 94, 96, 98, 100]\n"
     ]
    }
   ],
   "source": [
    "# 1 ~ 100 숫자 중에서 짝수만 리스트로 생성\n",
    "# range(시작, 종료, 증감) : 종료는 포함안함\n",
    "\n",
    "even = []\n",
    "for i in range(2, 101, 2):\n",
    "    even.append(i)\n",
    "\n",
    "print(even)"
   ]
  },
  {
   "cell_type": "code",
   "execution_count": null,
   "id": "0aa85720",
   "metadata": {},
   "outputs": [
    {
     "data": {
      "text/plain": [
       "[1, 2, 3, 4]"
      ]
     },
     "execution_count": 64,
     "metadata": {},
     "output_type": "execute_result"
    }
   ],
   "source": [
    "# 리스트 원본 정렬 : sort() - 오름차순\n",
    "\n",
    "list1 = [1,4,3,2]\n",
    "list1.sort()\n",
    "list1"
   ]
  },
  {
   "cell_type": "code",
   "execution_count": 68,
   "id": "2c34ca01",
   "metadata": {},
   "outputs": [
    {
     "data": {
      "text/plain": [
       "['c', 'd', 't', 'w', 'z']"
      ]
     },
     "execution_count": 68,
     "metadata": {},
     "output_type": "execute_result"
    }
   ],
   "source": [
    "# list2.sort() 섞여있는 형태는 정렬 안 됨\n",
    "list2 = ['z','w','t','c','d']\n",
    "list2.sort()\n",
    "list2"
   ]
  },
  {
   "cell_type": "code",
   "execution_count": 70,
   "id": "279ec3d2",
   "metadata": {},
   "outputs": [
    {
     "data": {
      "text/plain": [
       "['A', 'M', 'V', 'c', 'd', 't', 'w', 'z']"
      ]
     },
     "execution_count": 70,
     "metadata": {},
     "output_type": "execute_result"
    }
   ],
   "source": [
    "list2 = ['z','M','w','A','t','c','V','d']\n",
    "list2.sort() # 대문자 => 소문자\n",
    "list2"
   ]
  },
  {
   "cell_type": "code",
   "execution_count": 72,
   "id": "bfa9d45a",
   "metadata": {},
   "outputs": [
    {
     "name": "stdout",
     "output_type": "stream",
     "text": [
      "정렬 전  ['z', 'w', 't', 'd', 'c', 'V', 'M', 'A']\n",
      "정렬 후  ['z', 'w', 't', 'd', 'c', 'V', 'M', 'A']\n"
     ]
    }
   ],
   "source": [
    "# sort(reverse = True) => 내림차순(desc)\n",
    "print(\"정렬 전 \", list2)\n",
    "list2.sort(reverse = True)\n",
    "print(\"정렬 후 \", list2)\n",
    "\n",
    "\n",
    "\n"
   ]
  },
  {
   "cell_type": "code",
   "execution_count": 139,
   "id": "592f16c5",
   "metadata": {},
   "outputs": [
    {
     "name": "stdout",
     "output_type": "stream",
     "text": [
      "[6.5, 5.5, 4, 3, 2, 1]\n",
      "[1, 2, 3, 4, 5.5, 6.5]\n"
     ]
    }
   ],
   "source": [
    "# reverse() : 리스트 뒤집기\n",
    "\n",
    "print(list3)\n",
    "list3.reverse()\n",
    "print(list3)\n"
   ]
  },
  {
   "cell_type": "code",
   "execution_count": null,
   "id": "3de76bed",
   "metadata": {},
   "outputs": [
    {
     "data": {
      "text/plain": [
       "0"
      ]
     },
     "execution_count": 5,
     "metadata": {},
     "output_type": "execute_result"
    }
   ],
   "source": [
    "# index() : 특정 요소 위치 반환(없는 경우 에러)\n",
    "\n",
    "# list3.index(9)\n",
    "list3.index(1)"
   ]
  },
  {
   "cell_type": "code",
   "execution_count": null,
   "id": "3093b32f",
   "metadata": {},
   "outputs": [],
   "source": [
    "# insert(위치, 요소) : 위치 지정해서 요소 삽입 \n",
    "list3.insert(2, 35)"
   ]
  },
  {
   "cell_type": "code",
   "execution_count": 7,
   "id": "3bdc1769",
   "metadata": {},
   "outputs": [
    {
     "data": {
      "text/plain": [
       "[1, 2, 35, 3, 4, 5.5, 6.5]"
      ]
     },
     "execution_count": 7,
     "metadata": {},
     "output_type": "execute_result"
    }
   ],
   "source": [
    "list3"
   ]
  },
  {
   "cell_type": "code",
   "execution_count": null,
   "id": "38c77154",
   "metadata": {},
   "outputs": [
    {
     "data": {
      "text/plain": [
       "[1, 2, 35, 3, 5.5, 6.5]"
      ]
     },
     "execution_count": 8,
     "metadata": {},
     "output_type": "execute_result"
    }
   ],
   "source": [
    "# remove() : 첫번째로 나오는 특정 요소 삭제\n",
    "\n",
    "list3.remove(4)\n",
    "list3"
   ]
  },
  {
   "cell_type": "code",
   "execution_count": 9,
   "id": "e52420be",
   "metadata": {},
   "outputs": [
    {
     "data": {
      "text/plain": [
       "[1, 2, 35, 3, 5.5]"
      ]
     },
     "execution_count": 9,
     "metadata": {},
     "output_type": "execute_result"
    }
   ],
   "source": [
    "# pop() : 리스트 맨 마지막 요소를 리턴하고 그 요소는 삭제\n",
    "\n",
    "list3.pop()\n",
    "list3"
   ]
  },
  {
   "cell_type": "code",
   "execution_count": 10,
   "id": "25333bb0",
   "metadata": {},
   "outputs": [
    {
     "data": {
      "text/plain": [
       "[1, 35, 3, 5.5]"
      ]
     },
     "execution_count": 10,
     "metadata": {},
     "output_type": "execute_result"
    }
   ],
   "source": [
    "list3.pop(1)\n",
    "list3"
   ]
  },
  {
   "cell_type": "code",
   "execution_count": null,
   "id": "b2885faf",
   "metadata": {},
   "outputs": [
    {
     "data": {
      "text/plain": [
       "1"
      ]
     },
     "execution_count": 12,
     "metadata": {},
     "output_type": "execute_result"
    }
   ],
   "source": [
    "# count() : 리스트에 포함된 요소 개수 세기\n",
    "\n",
    "list3.count(35)"
   ]
  },
  {
   "cell_type": "code",
   "execution_count": 14,
   "id": "4f0d7525",
   "metadata": {},
   "outputs": [
    {
     "data": {
      "text/plain": [
       "[1, 35, 3, 5.5, 4, 4]"
      ]
     },
     "execution_count": 14,
     "metadata": {},
     "output_type": "execute_result"
    }
   ],
   "source": [
    "list3.append(4)\n",
    "list3"
   ]
  },
  {
   "cell_type": "code",
   "execution_count": 15,
   "id": "608d5709",
   "metadata": {},
   "outputs": [
    {
     "data": {
      "text/plain": [
       "[1, 35, 3, 5.5, 4, 4, [7, 8, 9]]"
      ]
     },
     "execution_count": 15,
     "metadata": {},
     "output_type": "execute_result"
    }
   ],
   "source": [
    "list3.append([7,8,9])\n",
    "list3"
   ]
  },
  {
   "cell_type": "code",
   "execution_count": null,
   "id": "bfc347ae",
   "metadata": {},
   "outputs": [
    {
     "data": {
      "text/plain": [
       "[1, 35, 3, 5.5, 4, 4, [7, 8, 9], 16, 17, 18]"
      ]
     },
     "execution_count": 16,
     "metadata": {},
     "output_type": "execute_result"
    }
   ],
   "source": [
    "# extend() : 확장\n",
    "\n",
    "list3.extend([16,17,18])\n",
    "list3"
   ]
  },
  {
   "cell_type": "code",
   "execution_count": null,
   "id": "70196208",
   "metadata": {},
   "outputs": [
    {
     "name": "stdout",
     "output_type": "stream",
     "text": [
      "True\n"
     ]
    }
   ],
   "source": [
    "# 참 : 리스트에 요소를 가지고 있으면 True, \"abc\"\n",
    "# 거짓 : [], \"\"\n",
    "\n",
    "if list2:\n",
    "    print(True)\n",
    "else:\n",
    "    print(False)"
   ]
  },
  {
   "cell_type": "code",
   "execution_count": 21,
   "id": "48b3943b",
   "metadata": {},
   "outputs": [
    {
     "data": {
      "text/plain": [
       "['a', 'b', 'c', 1, 2, 3]"
      ]
     },
     "execution_count": 21,
     "metadata": {},
     "output_type": "execute_result"
    }
   ],
   "source": [
    "list2"
   ]
  },
  {
   "cell_type": "code",
   "execution_count": 2,
   "id": "92e8ca58",
   "metadata": {},
   "outputs": [
    {
     "data": {
      "text/plain": [
       "[2, 4, 6, 8]"
      ]
     },
     "execution_count": 2,
     "metadata": {},
     "output_type": "execute_result"
    }
   ],
   "source": [
    "# list 의 각 요소에 * 2 를 한 후 새로운 리스트로 반환\n",
    "list1 = [1,2,3,4]\n",
    "list2 = []\n",
    "for i in list1:\n",
    "    list2.append(i*2)\n",
    "\n",
    "list2"
   ]
  },
  {
   "cell_type": "code",
   "execution_count": 5,
   "id": "bdddedba",
   "metadata": {},
   "outputs": [
    {
     "data": {
      "text/plain": [
       "[2, 4, 6, 8]"
      ]
     },
     "execution_count": 5,
     "metadata": {},
     "output_type": "execute_result"
    }
   ],
   "source": [
    "list3 = [x * 2 for x in list1]\n",
    "list3"
   ]
  },
  {
   "cell_type": "code",
   "execution_count": 19,
   "id": "f12c44e2",
   "metadata": {},
   "outputs": [
    {
     "name": "stdout",
     "output_type": "stream",
     "text": [
      "[0, 1, 4, 9, 16]\n"
     ]
    }
   ],
   "source": [
    "print([x * x for x in range(5)])"
   ]
  },
  {
   "cell_type": "markdown",
   "id": "d5a585f5",
   "metadata": {},
   "source": [
    "1 메뉴 선택\n",
    "A 자동차 들어감. 주차장 상태 ==> ['A']\n",
    "B 자동차 들어감. 주차장 상태 ==> ['A','B']\n",
    "....\n",
    "E 자동차 들어감. 주차장 상태 ==> ['A','B','C','D','E']\n",
    "\n",
    "2 메뉴 선택\n",
    "E 자동차 나감. 주차장 상태 ==> ['A','B','C','D']\n",
    "\n"
   ]
  },
  {
   "cell_type": "code",
   "execution_count": null,
   "id": "48c78adf",
   "metadata": {},
   "outputs": [
    {
     "data": {
      "text/plain": [
       "65"
      ]
     },
     "execution_count": 7,
     "metadata": {},
     "output_type": "execute_result"
    }
   ],
   "source": [
    "# ord - 문자 => 유니코드 값 \n",
    "print(ord(\"A\"))\n",
    "\n",
    "# chr - 유니코드값 => 문자\n",
    "print(chr(65))"
   ]
  },
  {
   "cell_type": "code",
   "execution_count": 18,
   "id": "ec74e114",
   "metadata": {},
   "outputs": [
    {
     "name": "stdout",
     "output_type": "stream",
     "text": [
      "A 자동차 들어감. 주차장 상태 ==> ['A']\n",
      "B 자동차 들어감. 주차장 상태 ==> ['A', 'B']\n",
      "C 자동차 들어감. 주차장 상태 ==> ['A', 'B', 'C']\n",
      "D 자동차 들어감. 주차장 상태 ==> ['A', 'B', 'C', 'D']\n",
      "E 자동차 들어감. 주차장 상태 ==> ['A', 'B', 'C', 'D', 'E']\n",
      "주차장 꽉 찼음\n",
      "주차장 꽉 찼음\n",
      "E 자동차 나감. 주차장 상태 ==> ['A', 'B', 'C', 'D']\n",
      "D 자동차 나감. 주차장 상태 ==> ['A', 'B', 'C']\n",
      "C 자동차 나감. 주차장 상태 ==> ['A', 'B']\n",
      "B 자동차 나감. 주차장 상태 ==> ['A']\n",
      "A 자동차 나감. 주차장 상태 ==> []\n",
      "차량없음\n",
      "차량없음\n",
      "메뉴를 확인해 주세요\n",
      "메뉴를 확인해 주세요\n"
     ]
    }
   ],
   "source": [
    "# 주차장 프로그램 작성\n",
    "\n",
    "parking_lot = []\n",
    "top, car_name = 0, \"A\"\n",
    "\n",
    "while True:\n",
    "    no = int(input(\"[1] 자동차 넣기 | [2] 자동차 빼기 | [3] 종료\"))\n",
    "    \n",
    "    if no <= 3:\n",
    "        if no == 1:\n",
    "            if top >= 5: \n",
    "                print(\"주차장 꽉 찼음\")\n",
    "            else:\n",
    "                top += 1\n",
    "                parking_lot.append(car_name)\n",
    "                print(f\"{car_name} 자동차 들어감. 주차장 상태 ==> {parking_lot}\")\n",
    "                car_name = chr(ord(car_name) + 1)\n",
    "\n",
    "        elif no == 2:\n",
    "            if top < 1:\n",
    "                print(\"차량없음\")\n",
    "            else:\n",
    "                top -= 1\n",
    "                parking_lot.pop()\n",
    "                car_name = chr(ord(car_name) - 1)\n",
    "                print(f\"{car_name} 자동차 나감. 주차장 상태 ==> {parking_lot}\")\n",
    "                \n",
    "        elif no == 3:\n",
    "            break\n",
    "    else:\n",
    "        print(\"메뉴를 확인해 주세요\")\n",
    "    \n"
   ]
  },
  {
   "cell_type": "markdown",
   "id": "e2b7e206",
   "metadata": {},
   "source": [
    "### List Comprehension\n"
   ]
  },
  {
   "cell_type": "code",
   "execution_count": null,
   "id": "ecb59c98",
   "metadata": {},
   "outputs": [
    {
     "name": "stdout",
     "output_type": "stream",
     "text": [
      "[0, 1, 4, 9, 16]\n"
     ]
    }
   ],
   "source": [
    "list3 = [x * 2 for x in list1]\n",
    "list3"
   ]
  },
  {
   "cell_type": "code",
   "execution_count": null,
   "id": "afd0ddaf",
   "metadata": {},
   "outputs": [
    {
     "name": "stdout",
     "output_type": "stream",
     "text": [
      "[0, 1, 4, 9, 16]\n"
     ]
    }
   ],
   "source": [
    "print([x * x for x in range(5)])"
   ]
  },
  {
   "cell_type": "code",
   "execution_count": 26,
   "id": "b238d98a",
   "metadata": {},
   "outputs": [
    {
     "name": "stdout",
     "output_type": "stream",
     "text": [
      "['갑', '을', '병']\n"
     ]
    }
   ],
   "source": [
    "list1 = [\"갑\",\"을\",\"병\",\"정\"]\n",
    "# 정 글자만 제외하고 새로운 리스트로 생성하기\n",
    "\n",
    "# list2 = []\n",
    "# for s in list1:\n",
    "#     if s != \"정\":\n",
    "#         list2.append(s)\n",
    "\n",
    "# print(list2)\n",
    "\n",
    "list2 = [s for s in list1 if s != \"정\"]\n",
    "print(list2)\n"
   ]
  },
  {
   "cell_type": "code",
   "execution_count": 28,
   "id": "be8c495d",
   "metadata": {},
   "outputs": [
    {
     "name": "stdout",
     "output_type": "stream",
     "text": [
      "[1, 3, 5, 7, 9, 11, 13, 15, 17, 19, 21, 23, 25, 27, 29, 31, 33, 35, 37, 39, 41, 43, 45, 47, 49, 51, 53, 55, 57, 59, 61, 63, 65, 67, 69, 71, 73, 75, 77, 79, 81, 83, 85, 87, 89, 91, 93, 95, 97, 99]\n"
     ]
    }
   ],
   "source": [
    "# 1 ~ 100 숫자 중에서 홀수만 리스트로 생성\n",
    "\n",
    "# list2 = []\n",
    "# for i in range(1,101):\n",
    "#     if i % 2 == 1:\n",
    "#         list2.append(i)\n",
    "# print(list2)\n",
    "\n",
    "list2 = [i for i in range(1,101) if i % 2 == 1]\n",
    "print(list2)\n"
   ]
  },
  {
   "cell_type": "code",
   "execution_count": 32,
   "id": "d811d9f7",
   "metadata": {},
   "outputs": [
    {
     "name": "stdout",
     "output_type": "stream",
     "text": [
      "['study', 'python', 'anaconda', 'earl sweatshirt']\n"
     ]
    }
   ],
   "source": [
    "list1 = [\"nice\",\"study\",\"python\",\"anaconda\",\"!\",\"abc\",\"earl sweatshirt\"]\n",
    "\n",
    "# # 5글자 이상의 단어만 새로운 리스트로 생성\n",
    "# list2 = []\n",
    "# for i in list1:\n",
    "#     if len(i) >= 5:\n",
    "#         list2.append(i)\n",
    "# print(list2)\n",
    "\n",
    "list2 = [i for i in list1 if len(i) >= 5]\n",
    "print(list2)\n"
   ]
  },
  {
   "cell_type": "code",
   "execution_count": 33,
   "id": "b68309d6",
   "metadata": {},
   "outputs": [
    {
     "name": "stdout",
     "output_type": "stream",
     "text": [
      "[[1, 2, 3], [2, 3, 4], [3, 4, 5]]\n"
     ]
    }
   ],
   "source": [
    "print([[x, x+1, x+2] for x in [1,2,3]])"
   ]
  }
 ],
 "metadata": {
  "kernelspec": {
   "display_name": "venv",
   "language": "python",
   "name": "python3"
  },
  "language_info": {
   "codemirror_mode": {
    "name": "ipython",
    "version": 3
   },
   "file_extension": ".py",
   "mimetype": "text/x-python",
   "name": "python",
   "nbconvert_exporter": "python",
   "pygments_lexer": "ipython3",
   "version": "3.13.3"
  }
 },
 "nbformat": 4,
 "nbformat_minor": 5
}
