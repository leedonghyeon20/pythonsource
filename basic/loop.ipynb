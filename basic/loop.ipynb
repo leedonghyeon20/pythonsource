{
 "cells": [
  {
   "cell_type": "markdown",
   "id": "40be0b25",
   "metadata": {},
   "source": [
    "### 제어문\n",
    "- if\n",
    "    "
   ]
  },
  {
   "cell_type": "code",
   "execution_count": 71,
   "id": "ccf78780",
   "metadata": {},
   "outputs": [
    {
     "name": "stdout",
     "output_type": "stream",
     "text": [
      "a는 100보다 작다\n"
     ]
    }
   ],
   "source": [
    "a = 20\n",
    "if a < 100:\n",
    "    print(\"a는 100보다 작다\") "
   ]
  },
  {
   "cell_type": "code",
   "execution_count": 72,
   "id": "1a11dad3",
   "metadata": {},
   "outputs": [
    {
     "name": "stdout",
     "output_type": "stream",
     "text": [
      "a는 100보다 크고 300보다 작다\n"
     ]
    }
   ],
   "source": [
    "a = 200\n",
    "if 100 < a < 300:   # a > 100 and a < 300\n",
    "    print(\"a는 100보다 크고 300보다 작다\") "
   ]
  },
  {
   "cell_type": "code",
   "execution_count": 73,
   "id": "0ee3fdc1",
   "metadata": {},
   "outputs": [
    {
     "name": "stdout",
     "output_type": "stream",
     "text": [
      "18\n"
     ]
    }
   ],
   "source": [
    "# a=12, b=6, c=18\n",
    "# 가장 큰 수 출력\n",
    "\n",
    "a, b, c = 12, 6, 18\n",
    "\n",
    "if a > b and a > c:\n",
    "    print(a)\n",
    "elif b > c:\n",
    "    print(b)\n",
    "else:\n",
    "    print(c)\n",
    "\n"
   ]
  },
  {
   "cell_type": "code",
   "execution_count": 74,
   "id": "1781c065",
   "metadata": {},
   "outputs": [
    {
     "name": "stdout",
     "output_type": "stream",
     "text": [
      "a 는 100보다 작다\n"
     ]
    }
   ],
   "source": [
    "if a < 100:\n",
    "    print(\"a 는 100보다 작다\")\n",
    "else:\n",
    "    print(\"a 는 100보다 크다\")"
   ]
  },
  {
   "cell_type": "code",
   "execution_count": 75,
   "id": "989d3f45",
   "metadata": {},
   "outputs": [
    {
     "name": "stdout",
     "output_type": "stream",
     "text": [
      "합격\n"
     ]
    }
   ],
   "source": [
    "# &&(python에서는 사용 안 함) => and, or\n",
    "score, grade = 90, \"A\"\n",
    "\n",
    "if score>=90 and grade == \"A\":\n",
    "    print(\"합격\")\n",
    "else:\n",
    "    print(\"불합격\")\n"
   ]
  },
  {
   "cell_type": "code",
   "execution_count": 76,
   "id": "23b96d28",
   "metadata": {},
   "outputs": [
    {
     "name": "stdout",
     "output_type": "stream",
     "text": [
      "홀수\n"
     ]
    }
   ],
   "source": [
    "# 사용자한테 입력받은 숫자가 짝, 홀 출력\n",
    "num = int(input(\"숫자 입력 : \"))\n",
    "if(num % 2 == 0):\n",
    "    print(\"짝수\")\n",
    "else:\n",
    "    print(\"홀수\")\n",
    "\n"
   ]
  },
  {
   "cell_type": "code",
   "execution_count": 77,
   "id": "c073c24e",
   "metadata": {},
   "outputs": [
    {
     "name": "stdout",
     "output_type": "stream",
     "text": [
      "등급 A\n"
     ]
    }
   ],
   "source": [
    "# if ~ elif ~ else\n",
    "\n",
    "if score >= 90:\n",
    "    grade = \"A\"\n",
    "elif score >= 80:\n",
    "    grade = \"B\"\n",
    "elif score >= 70:\n",
    "    grade = \"C\"\n",
    "elif score >= 60:\n",
    "    grade = \"D\"\n",
    "else:\n",
    "    grade = \"F\"\n",
    "\n",
    "print(f\"등급 {grade}\")\n",
    "\n"
   ]
  },
  {
   "cell_type": "code",
   "execution_count": 78,
   "id": "56ee1f98",
   "metadata": {},
   "outputs": [
    {
     "ename": "ValueError",
     "evalue": "invalid literal for int() with base 10: '+'",
     "output_type": "error",
     "traceback": [
      "\u001b[31m---------------------------------------------------------------------------\u001b[39m",
      "\u001b[31mValueError\u001b[39m                                Traceback (most recent call last)",
      "\u001b[36mCell\u001b[39m\u001b[36m \u001b[39m\u001b[32mIn[78]\u001b[39m\u001b[32m, line 5\u001b[39m\n\u001b[32m      1\u001b[39m \u001b[38;5;66;03m# 숫자 두 개 입력, 연산자(+,-,*,/,//,%) 입력\u001b[39;00m\n\u001b[32m      2\u001b[39m \u001b[38;5;66;03m# 계산기\u001b[39;00m\n\u001b[32m      4\u001b[39m num1 = \u001b[38;5;28mint\u001b[39m(\u001b[38;5;28minput\u001b[39m(\u001b[33m\"\u001b[39m\u001b[33m숫자 입력 : \u001b[39m\u001b[33m\"\u001b[39m))\n\u001b[32m----> \u001b[39m\u001b[32m5\u001b[39m num2 = \u001b[38;5;28;43mint\u001b[39;49m\u001b[43m(\u001b[49m\u001b[38;5;28;43minput\u001b[39;49m\u001b[43m(\u001b[49m\u001b[33;43m\"\u001b[39;49m\u001b[33;43m숫자 입력 : \u001b[39;49m\u001b[33;43m\"\u001b[39;49m\u001b[43m)\u001b[49m\u001b[43m)\u001b[49m\n\u001b[32m      6\u001b[39m op = (\u001b[38;5;28minput\u001b[39m(\u001b[33m\"\u001b[39m\u001b[33m연산자 입력 : \u001b[39m\u001b[33m\"\u001b[39m))\n\u001b[32m      8\u001b[39m \u001b[38;5;28;01mif\u001b[39;00m(op == \u001b[33m\"\u001b[39m\u001b[33m+\u001b[39m\u001b[33m\"\u001b[39m):\n",
      "\u001b[31mValueError\u001b[39m: invalid literal for int() with base 10: '+'"
     ]
    }
   ],
   "source": [
    "# 숫자 두 개 입력, 연산자(+,-,*,/,//,%) 입력\n",
    "# 계산기\n",
    "\n",
    "num1 = int(input(\"숫자 입력 : \"))\n",
    "num2 = int(input(\"숫자 입력 : \"))\n",
    "op = (input(\"연산자 입력 : \"))\n",
    "\n",
    "if(op == \"+\"):\n",
    "    print(f\"{num1} {op} {num2} = {num1+num2}\")\n",
    "elif(op == \"-\"):\n",
    "    print(f\"{num1} {op} {num2} = {num1-num2}\")\n",
    "elif(op == \"*\"):\n",
    "    print(f\"{num1} {op} {num2} = {num1*num2}\")\n",
    "elif(op == \"/\"):\n",
    "    print(f\"{num1} {op} {num2} = {num1/num2}\")\n",
    "elif(op == \"//\"):\n",
    "    print(f\"{num1} {op} {num2} = {num1//num2}\")\n",
    "elif(op == \"%\"):\n",
    "    print(f\"{num1} {op} {num2} = {num1%num2}\")\n",
    "else:\n",
    "    print(\"연산자 잘못 입력\")\n",
    "    \n",
    "\n",
    "\n",
    "\n"
   ]
  },
  {
   "cell_type": "code",
   "execution_count": null,
   "id": "71f0dc63",
   "metadata": {},
   "outputs": [
    {
     "name": "stdout",
     "output_type": "stream",
     "text": [
      "True\n",
      "True\n"
     ]
    }
   ],
   "source": [
    "# x in 리스트 : x 가 리스트안에 포함되어 있느냐?\n",
    "# x in 문자열 : x 가 문자열안에 포함되어 있느냐?\n",
    "\n",
    "print(1 in [1,2,3])\n",
    "print(\"a\" in \"abc\")"
   ]
  },
  {
   "cell_type": "code",
   "execution_count": null,
   "id": "c12a4657",
   "metadata": {},
   "outputs": [
    {
     "data": {
      "text/plain": [
       "False"
      ]
     },
     "execution_count": 31,
     "metadata": {},
     "output_type": "execute_result"
    }
   ],
   "source": [
    "1 not in [1,2,3]"
   ]
  },
  {
   "cell_type": "code",
   "execution_count": null,
   "id": "fea07a00",
   "metadata": {},
   "outputs": [
    {
     "name": "stdout",
     "output_type": "stream",
     "text": [
      "money 있음\n"
     ]
    }
   ],
   "source": [
    "pocket = [\"paper\",\"money\",\"cellphone\"]\n",
    "if \"money\" in pocket:\n",
    "    print('money 있음')"
   ]
  },
  {
   "cell_type": "code",
   "execution_count": null,
   "id": "6a63644c",
   "metadata": {},
   "outputs": [
    {
     "data": {
      "text/plain": [
       "'success'"
      ]
     },
     "execution_count": 42,
     "metadata": {},
     "output_type": "execute_result"
    }
   ],
   "source": [
    "# 파이썬에 삼항연산자( 조건 ? 참 : 거짓) 없음\n",
    "\n",
    "# message = \"\"\n",
    "# if score >= 60:\n",
    "#     message = \"success\"\n",
    "# else:\n",
    "#     message = \"fail\"\n",
    "\n",
    "message = \"success\" if score >= 60 else \"fail\"\n",
    "message"
   ]
  },
  {
   "cell_type": "markdown",
   "id": "cf74525d",
   "metadata": {},
   "source": [
    "### 반복문\n",
    "- while\n",
    "- for"
   ]
  },
  {
   "cell_type": "code",
   "execution_count": null,
   "id": "faad4dc1",
   "metadata": {},
   "outputs": [
    {
     "name": "stdout",
     "output_type": "stream",
     "text": [
      "1 2 3 4 5 6 7 8 9 10 "
     ]
    }
   ],
   "source": [
    "i = 1\n",
    "while i < 11:\n",
    "    print(i, end=\" \")\n",
    "    # i++\n",
    "    i = i + 1"
   ]
  },
  {
   "cell_type": "code",
   "execution_count": null,
   "id": "5bad503e",
   "metadata": {},
   "outputs": [
    {
     "name": "stdout",
     "output_type": "stream",
     "text": [
      "5050\n"
     ]
    }
   ],
   "source": [
    "# 1 ~ 100 합계\n",
    "\n",
    "\n",
    "num, hap = 1, 0\n",
    "while num < 101:\n",
    "    hap = hap + num\n",
    "    num = num + 1\n",
    "print(hap)\n",
    "\n",
    "\n",
    "\n",
    "\n"
   ]
  },
  {
   "cell_type": "code",
   "execution_count": 1,
   "id": "dd88c72e",
   "metadata": {},
   "outputs": [
    {
     "name": "stdout",
     "output_type": "stream",
     "text": [
      "range(0, 5)\n",
      "[0, 1, 2, 3, 4]\n",
      "10\n",
      "5050\n",
      "5050\n",
      "2500\n"
     ]
    }
   ],
   "source": [
    "print(range(5))\n",
    "print(list(range(5)))\n",
    "print(sum(range(5)))\n",
    "print(sum(range(101)))\n",
    "print(sum(range(1,101)))\n",
    "print(sum(range(1,101,2))) # 1, 3, 5"
   ]
  },
  {
   "cell_type": "code",
   "execution_count": null,
   "id": "f52d0936",
   "metadata": {},
   "outputs": [
    {
     "name": "stdout",
     "output_type": "stream",
     "text": [
      "1 2 3 4 5 6 7 8 9 10 "
     ]
    }
   ],
   "source": [
    "for i in range(1,11):\n",
    "    print(i, end=\" \")"
   ]
  },
  {
   "cell_type": "code",
   "execution_count": null,
   "id": "45c2a315",
   "metadata": {},
   "outputs": [
    {
     "name": "stdout",
     "output_type": "stream",
     "text": [
      "1 3 5 7 9 11 13 15 17 19 21 23 25 27 29 31 33 35 37 39 41 43 45 47 49 51 53 55 57 59 61 63 65 67 69 71 73 75 77 79 81 83 85 87 89 91 93 95 97 99 "
     ]
    }
   ],
   "source": [
    "for i in range(1, 101, 2):\n",
    "    print(i, end=\" \")"
   ]
  },
  {
   "cell_type": "code",
   "execution_count": null,
   "id": "6fcba39e",
   "metadata": {},
   "outputs": [
    {
     "name": "stdout",
     "output_type": "stream",
     "text": [
      "120\n"
     ]
    }
   ],
   "source": [
    "# 1 ~ 사용자가 입력한 숫자까지 합계\n",
    "\n",
    "num = int(input(\"숫자 입력\"))\n",
    "hap = 0\n",
    "for i in range(1, num+1):\n",
    "    hap = hap + i\n",
    "print(hap)\n"
   ]
  },
  {
   "cell_type": "code",
   "execution_count": null,
   "id": "2a7785dc",
   "metadata": {},
   "outputs": [
    {
     "name": "stdout",
     "output_type": "stream",
     "text": [
      "5 4 3 2 1 0 "
     ]
    }
   ],
   "source": [
    "for i in range(5, -1, -1):\n",
    "    print(i, end=\" \")"
   ]
  },
  {
   "cell_type": "code",
   "execution_count": 4,
   "id": "6551fd98",
   "metadata": {},
   "outputs": [
    {
     "name": "stdout",
     "output_type": "stream",
     "text": [
      "사과\n",
      "딸기\n",
      "바나나\n",
      "포도\n"
     ]
    }
   ],
   "source": [
    "list1 = [\"사과\", \"딸기\", \"바나나\", \"포도\"]\n",
    "\n",
    "# 리스트 출력\n",
    "for fruit in list1:\n",
    "    print(fruit)"
   ]
  },
  {
   "cell_type": "code",
   "execution_count": 7,
   "id": "455e0c1e",
   "metadata": {},
   "outputs": [
    {
     "name": "stdout",
     "output_type": "stream",
     "text": [
      "사과\n",
      "0 사과\n",
      "딸기\n",
      "1 딸기\n",
      "바나나\n",
      "2 바나나\n",
      "포도\n",
      "3 포도\n"
     ]
    }
   ],
   "source": [
    "# tuple : (0, '사과')\n",
    "\n",
    "# enumerate(리스트, 문자열, set, 튜플, 딕셔너리)\n",
    "\n",
    "for idx, fruit in enumerate(list1):\n",
    "    print(fruit)\n",
    "    print(idx, fruit)"
   ]
  },
  {
   "cell_type": "code",
   "execution_count": null,
   "id": "23dfab70",
   "metadata": {},
   "outputs": [
    {
     "name": "stdout",
     "output_type": "stream",
     "text": [
      "78.88888888888889\n",
      "평균 : 78.89\n"
     ]
    }
   ],
   "source": [
    "a_class = [70,60,55,75,95,90,80,85,100]\n",
    "\n",
    "# a_class 의 중간고사 점수에 대해서 평균 구하기\n",
    "\n",
    "print(sum(a_class)/len(a_class))\n",
    "\n",
    "total = 0\n",
    "for num in a_class:\n",
    "    total += num\n",
    "print(\"평균 : %.2f\" % (total / len(a_class)))"
   ]
  }
 ],
 "metadata": {
  "kernelspec": {
   "display_name": "venv",
   "language": "python",
   "name": "python3"
  },
  "language_info": {
   "codemirror_mode": {
    "name": "ipython",
    "version": 3
   },
   "file_extension": ".py",
   "mimetype": "text/x-python",
   "name": "python",
   "nbconvert_exporter": "python",
   "pygments_lexer": "ipython3",
   "version": "3.13.3"
  }
 },
 "nbformat": 4,
 "nbformat_minor": 5
}
