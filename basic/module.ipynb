{
 "cells": [
  {
   "cell_type": "markdown",
   "id": "8877988b",
   "metadata": {},
   "source": [
    "### 모듈\n",
    "- 함수, 클래스들 모아놓은 파일\n",
    "\n",
    "### 패키지\n",
    "- 관련있는 모듈의 집합\n"
   ]
  },
  {
   "cell_type": "code",
   "execution_count": 1,
   "id": "06d42c92",
   "metadata": {},
   "outputs": [
    {
     "name": "stdout",
     "output_type": "stream",
     "text": [
      "4\n",
      "3\n",
      "0.1411200080598672\n"
     ]
    }
   ],
   "source": [
    "import math\n",
    "\n",
    "print(math.ceil(3.14))\n",
    "print(math.floor(3.14))\n",
    "print(math.sin(3))"
   ]
  },
  {
   "cell_type": "code",
   "execution_count": null,
   "id": "fb30e21e",
   "metadata": {},
   "outputs": [
    {
     "name": "stdout",
     "output_type": "stream",
     "text": [
      "0.5360279686492495\n",
      "10.527341560630411\n",
      "4\n",
      "11\n",
      "7\n",
      "[3, 1, 6, 4, 7, 5, 2]\n",
      "[1, 3, 4, 5]\n"
     ]
    }
   ],
   "source": [
    "import random\n",
    "\n",
    "# 0.0 <= x < 1.0\n",
    "print(random.random())\n",
    "# uniform(x,y) : x ~ y 사이의 임의의 float 값 리턴 \n",
    "print(random.uniform(10,20))\n",
    "\n",
    "# randrange(x) : 0 ~ x 사이의 int 값 리턴\n",
    "# randrange(x,y) : x ~ y 사이의 int 값 리턴\n",
    "print(random.randrange(10))\n",
    "print(random.randrange(10,20))\n",
    "\n",
    "# choice\n",
    "list1 = [1,2,3,4,5,6,7]\n",
    "# choice(리스트) : 리스트에서 임의로 하나\n",
    "print(random.choice(list1))\n",
    "\n",
    "# shuffle(리스트) : 리스트 내부의 요소들을 랜덤하게 섞기\n",
    "random.shuffle(list1)\n",
    "print(list1)\n",
    "\n",
    "# sample(리스트, x) : 리스트 요소 중에서 x개 뽑기\n",
    "print(random.sample(list1, 4))\n",
    "\n",
    "\n"
   ]
  },
  {
   "cell_type": "code",
   "execution_count": 68,
   "id": "b930277a",
   "metadata": {},
   "outputs": [
    {
     "name": "stdout",
     "output_type": "stream",
     "text": [
      "지금부터 5초 정지\n",
      "5초 끝!\n"
     ]
    }
   ],
   "source": [
    "import time\n",
    "\n",
    "print(\"지금부터 5초 정지\")\n",
    "time.sleep(5)\n",
    "print(\"5초 끝!\")"
   ]
  },
  {
   "cell_type": "code",
   "execution_count": 69,
   "id": "e9a42d13",
   "metadata": {},
   "outputs": [
    {
     "name": "stdout",
     "output_type": "stream",
     "text": [
      "4\n",
      "3\n",
      "0.1411200080598672\n"
     ]
    }
   ],
   "source": [
    "# import 모듈명 : 전체 모듈 load\n",
    "# from 모듈명 import 함수명, 클래스명 ... : 사용할 함수, 클래스만 가져오기\n",
    "\n",
    "from math import ceil, floor, sin\n",
    "\n",
    "print(ceil(3.14))\n",
    "print(floor(3.14))\n",
    "print(sin(3))"
   ]
  },
  {
   "cell_type": "code",
   "execution_count": 70,
   "id": "83ed054e",
   "metadata": {},
   "outputs": [
    {
     "name": "stdout",
     "output_type": "stream",
     "text": [
      "0.5704680664902937\n",
      "12.945801404163753\n",
      "0\n",
      "14\n",
      "4\n",
      "[2, 5, 4, 3, 6, 7, 1]\n",
      "[6, 1, 3, 5]\n"
     ]
    }
   ],
   "source": [
    "from random import random, randrange, uniform, shuffle, choice, sample \n",
    "\n",
    "# 0.0 <= x < 1.0\n",
    "print(random())\n",
    "# uniform(x,y) : x ~ y 사이의 임의의 float 값 리턴 \n",
    "print(uniform(10,20))\n",
    "\n",
    "# randrange(x) : 0 ~ x 사이의 int 값 리턴\n",
    "# randrange(x,y) : x ~ y 사이의 int 값 리턴\n",
    "print(randrange(10))\n",
    "print(randrange(10,20))\n",
    "\n",
    "# choice\n",
    "list1 = [1,2,3,4,5,6,7]\n",
    "# choice(리스트) : 리스트에서 임의로 하나\n",
    "print(choice(list1))\n",
    "\n",
    "# shuffle(리스트) : 리스트 내부의 요소들을 랜덤하게 섞기\n",
    "shuffle(list1)\n",
    "print(list1)\n",
    "\n",
    "# sample(리스트, x) : 리스트 요소 중에서 x개 뽑기\n",
    "print(sample(list1, 4))\n",
    "\n",
    "\n"
   ]
  },
  {
   "cell_type": "markdown",
   "id": "268a83b3",
   "metadata": {},
   "source": [
    "### 커스텀 모듈"
   ]
  },
  {
   "cell_type": "code",
   "execution_count": 71,
   "id": "168c5559",
   "metadata": {},
   "outputs": [
    {
     "name": "stdout",
     "output_type": "stream",
     "text": [
      "11\n",
      "13\n"
     ]
    }
   ],
   "source": [
    "import mod1\n",
    "\n",
    "print(mod1.add(5,6))\n",
    "print(mod1.sub(19,6))"
   ]
  },
  {
   "cell_type": "code",
   "execution_count": 72,
   "id": "2552c382",
   "metadata": {},
   "outputs": [
    {
     "name": "stdout",
     "output_type": "stream",
     "text": [
      "11\n",
      "13\n"
     ]
    }
   ],
   "source": [
    "from mod1 import add, sub\n",
    "\n",
    "print(add(5,6))\n",
    "print(sub(19,6))"
   ]
  },
  {
   "cell_type": "code",
   "execution_count": 73,
   "id": "3fd10650",
   "metadata": {},
   "outputs": [
    {
     "name": "stdout",
     "output_type": "stream",
     "text": [
      "78.5398\n",
      "21\n"
     ]
    }
   ],
   "source": [
    "from mod2 import * \n",
    "\n",
    "obj = Math()\n",
    "print(obj.solv(5))\n",
    "\n",
    "print(add(9,12))"
   ]
  },
  {
   "cell_type": "code",
   "execution_count": 77,
   "id": "5a291c2c",
   "metadata": {},
   "outputs": [
    {
     "name": "stdout",
     "output_type": "stream",
     "text": [
      "37\n"
     ]
    }
   ],
   "source": [
    "from mod3 import * \n",
    "\n",
    "calc = Calc(14,23)\n",
    "\n",
    "print(calc.sum())"
   ]
  },
  {
   "cell_type": "code",
   "execution_count": 78,
   "id": "767c6759",
   "metadata": {},
   "outputs": [],
   "source": [
    "import datetime\n",
    "\n",
    "day1 = datetime.datetime(2025,6,9,13,17,20)\n",
    "day2 = datetime.date(2025,6,9)\n",
    "time1 = datetime.time(13,17,20)"
   ]
  },
  {
   "cell_type": "code",
   "execution_count": 81,
   "id": "2447252f",
   "metadata": {},
   "outputs": [
    {
     "name": "stdout",
     "output_type": "stream",
     "text": [
      "2025-06-09 13:17:20\n",
      "2025-06-09 13:17:20\n"
     ]
    }
   ],
   "source": [
    "print(day1) \n",
    "print(day2, time1)"
   ]
  },
  {
   "cell_type": "code",
   "execution_count": null,
   "id": "f5517b37",
   "metadata": {},
   "outputs": [
    {
     "data": {
      "text/plain": [
       "1749442760.1285174"
      ]
     },
     "execution_count": 82,
     "metadata": {},
     "output_type": "execute_result"
    }
   ],
   "source": [
    "import time\n",
    "\n",
    "# 1970-01-01 기준으로 지난 시간 초 단위로 리턴\n",
    "time.time()"
   ]
  }
 ],
 "metadata": {
  "kernelspec": {
   "display_name": "venv",
   "language": "python",
   "name": "python3"
  },
  "language_info": {
   "codemirror_mode": {
    "name": "ipython",
    "version": 3
   },
   "file_extension": ".py",
   "mimetype": "text/x-python",
   "name": "python",
   "nbconvert_exporter": "python",
   "pygments_lexer": "ipython3",
   "version": "3.13.3"
  }
 },
 "nbformat": 4,
 "nbformat_minor": 5
}
