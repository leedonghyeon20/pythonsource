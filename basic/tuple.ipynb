{
 "cells": [
  {
   "cell_type": "markdown",
   "id": "e7e0cb3b",
   "metadata": {},
   "source": [
    "#### tuple\n",
    "- 리스트와 유사\n",
    "- () 로 감싼다\n",
    "- 튜플은 요소값 변경 불가\n",
    "- 읽기만 가능"
   ]
  },
  {
   "cell_type": "code",
   "execution_count": null,
   "id": "59331324",
   "metadata": {},
   "outputs": [],
   "source": [
    "# 튜플 생성\n",
    "\n",
    "t1 = ()\n",
    "t2 = 1,2,3\n",
    "t3 = (1,)   # 1개의 요소만을 가질 때 반드시 ',' 를 가져야 함\n",
    "t4 = (1,2,3)\n",
    "t5 = ('a','b',('ab','cd'))"
   ]
  },
  {
   "cell_type": "code",
   "execution_count": 6,
   "id": "d318b1fe",
   "metadata": {},
   "outputs": [
    {
     "data": {
      "text/plain": [
       "(1, 2, 3)"
      ]
     },
     "execution_count": 6,
     "metadata": {},
     "output_type": "execute_result"
    }
   ],
   "source": [
    "t2"
   ]
  },
  {
   "cell_type": "code",
   "execution_count": 7,
   "id": "5f2c8558",
   "metadata": {},
   "outputs": [
    {
     "ename": "TypeError",
     "evalue": "'tuple' object doesn't support item deletion",
     "output_type": "error",
     "traceback": [
      "\u001b[31m---------------------------------------------------------------------------\u001b[39m",
      "\u001b[31mTypeError\u001b[39m                                 Traceback (most recent call last)",
      "\u001b[36mCell\u001b[39m\u001b[36m \u001b[39m\u001b[32mIn[7]\u001b[39m\u001b[32m, line 1\u001b[39m\n\u001b[32m----> \u001b[39m\u001b[32m1\u001b[39m \u001b[38;5;28;01mdel\u001b[39;00m \u001b[43mt2\u001b[49m\u001b[43m[\u001b[49m\u001b[32;43m0\u001b[39;49m\u001b[43m]\u001b[49m\n",
      "\u001b[31mTypeError\u001b[39m: 'tuple' object doesn't support item deletion"
     ]
    }
   ],
   "source": [
    "del t2[0]"
   ]
  },
  {
   "cell_type": "code",
   "execution_count": 8,
   "id": "e1344bfb",
   "metadata": {},
   "outputs": [
    {
     "ename": "TypeError",
     "evalue": "'tuple' object does not support item assignment",
     "output_type": "error",
     "traceback": [
      "\u001b[31m---------------------------------------------------------------------------\u001b[39m",
      "\u001b[31mTypeError\u001b[39m                                 Traceback (most recent call last)",
      "\u001b[36mCell\u001b[39m\u001b[36m \u001b[39m\u001b[32mIn[8]\u001b[39m\u001b[32m, line 1\u001b[39m\n\u001b[32m----> \u001b[39m\u001b[32m1\u001b[39m \u001b[43mt2\u001b[49m\u001b[43m[\u001b[49m\u001b[32;43m0\u001b[39;49m\u001b[43m]\u001b[49m = \u001b[32m5\u001b[39m\n",
      "\u001b[31mTypeError\u001b[39m: 'tuple' object does not support item assignment"
     ]
    }
   ],
   "source": [
    "t2[0] = 5"
   ]
  },
  {
   "cell_type": "code",
   "execution_count": 11,
   "id": "8b3200e2",
   "metadata": {},
   "outputs": [
    {
     "name": "stdout",
     "output_type": "stream",
     "text": [
      "3\n",
      "(2, 3)\n"
     ]
    }
   ],
   "source": [
    "# 인덱싱과 슬라이싱\n",
    "\n",
    "print(t4[2])\n",
    "print(t4[1:])\n"
   ]
  },
  {
   "cell_type": "code",
   "execution_count": null,
   "id": "0e1cdd3f",
   "metadata": {},
   "outputs": [
    {
     "name": "stdout",
     "output_type": "stream",
     "text": [
      "(1, 1, 2, 3)\n",
      "(1, 1, 2, 3, 1, 1, 2, 3, 1, 1, 2, 3)\n"
     ]
    }
   ],
   "source": [
    "# +(연결), *(반복)\n",
    "\n",
    "t6 = t3 + t4\n",
    "print(t6)\n",
    "\n",
    "t7 = t6 * 3\n",
    "print(t7)"
   ]
  },
  {
   "cell_type": "code",
   "execution_count": 16,
   "id": "2ca60cfa",
   "metadata": {},
   "outputs": [
    {
     "data": {
      "text/plain": [
       "12"
      ]
     },
     "execution_count": 16,
     "metadata": {},
     "output_type": "execute_result"
    }
   ],
   "source": [
    "len(t7)"
   ]
  },
  {
   "cell_type": "code",
   "execution_count": null,
   "id": "2d32b52a",
   "metadata": {},
   "outputs": [],
   "source": []
  }
 ],
 "metadata": {
  "kernelspec": {
   "display_name": "venv",
   "language": "python",
   "name": "python3"
  },
  "language_info": {
   "codemirror_mode": {
    "name": "ipython",
    "version": 3
   },
   "file_extension": ".py",
   "mimetype": "text/x-python",
   "name": "python",
   "nbconvert_exporter": "python",
   "pygments_lexer": "ipython3",
   "version": "3.13.3"
  }
 },
 "nbformat": 4,
 "nbformat_minor": 5
}
