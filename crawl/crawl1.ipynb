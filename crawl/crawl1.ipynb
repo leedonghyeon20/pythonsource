{
 "cells": [
  {
   "cell_type": "markdown",
   "id": "71baaaaf",
   "metadata": {},
   "source": [
    "### 크롤링 vs 스크랩핑\n",
    "- 크롤링 : 주기적으로, 무작위로 데이터 수집하는 것(데이터의 양을 우선으로 수집하는 방식)\n",
    "    - 사이트에서 허용하는 경로만 가능\n",
    "- 스크랩핑 : 어떤 특정 카테고리를 선택해서 데이터를 수집(크롤링보다 작은 개념)"
   ]
  },
  {
   "cell_type": "code",
   "execution_count": null,
   "id": "d33f20d5",
   "metadata": {},
   "outputs": [
    {
     "name": "stdout",
     "output_type": "stream",
     "text": [
      "Date: Wed, 11 Jun 2025 04:11:46 GMT\n",
      "Expires: -1\n",
      "Cache-Control: private, max-age=0\n",
      "Content-Type: text/html; charset=ISO-8859-1\n",
      "Content-Security-Policy-Report-Only: object-src 'none';base-uri 'self';script-src 'nonce-nqJS9bZJEYJP2p7EOY8haw' 'strict-dynamic' 'report-sample' 'unsafe-eval' 'unsafe-inline' https: http:;report-uri https://csp.withgoogle.com/csp/gws/other-hp\n",
      "P3P: CP=\"This is not a P3P policy! See g.co/p3phelp for more info.\"\n",
      "Server: gws\n",
      "X-XSS-Protection: 0\n",
      "X-Frame-Options: SAMEORIGIN\n",
      "Set-Cookie: AEC=AVh_V2iz-1e13AxdclqPILlXi6nsmhJwJH1BDztV0jeEpkbyYIrdABfKlQ; expires=Mon, 08-Dec-2025 04:11:46 GMT; path=/; domain=.google.com; Secure; HttpOnly; SameSite=lax\n",
      "Set-Cookie: NID=524=BLPgXiC5mahp0BlR_DAlEZ1Q6sk0hVjkmoh0cvUaBZixV47mWdVwe1QRRzemWqjFvv3Wm68s-qNUL42rf_yZKrd3JR2eKAXqNzQRW1knrkR6Cfg_djhteivOYnNKM7MBUibUvqCtzaRwxKSZmTURjW9C_88ZzUk6qzGb5DvGYk-_zt8N43cKOyMxX_kC43P5jb4U2Pt3iXfs7ECdsw; expires=Thu, 11-Dec-2025 04:11:46 GMT; path=/; domain=.google.com; HttpOnly\n",
      "Accept-Ranges: none\n",
      "Vary: Accept-Encoding\n",
      "Connection: close\n",
      "Transfer-Encoding: chunked\n",
      "\n",
      "\n"
     ]
    }
   ],
   "source": [
    "import urllib.request as req\n",
    "\n",
    "url = \"http://google.com\"\n",
    "\n",
    "# urlretrieve\n",
    "# 요청하는 url 정보를 로컬파일로 저장\n",
    "\n",
    "file1, header1 = req.urlretrieve(url, \"./google.html\")\n",
    "print(header1)"
   ]
  },
  {
   "cell_type": "code",
   "execution_count": 3,
   "id": "be7dc8da",
   "metadata": {},
   "outputs": [],
   "source": [
    "url = \"https://upload.wikimedia.org/wikipedia/commons/thumb/c/c3/Python-logo-notext.svg/1200px-Python-logo-notext.svg.png\"\n",
    "\n",
    "# urlretrieve\n",
    "# 요청하는 url 정보를 로컬파일로 저장\n",
    "\n",
    "file1, header1 = req.urlretrieve(url, \"./python.png\")\n",
    "# print(header1)"
   ]
  },
  {
   "cell_type": "code",
   "execution_count": null,
   "id": "ff7628e1",
   "metadata": {},
   "outputs": [],
   "source": []
  }
 ],
 "metadata": {
  "kernelspec": {
   "display_name": "venv",
   "language": "python",
   "name": "python3"
  },
  "language_info": {
   "codemirror_mode": {
    "name": "ipython",
    "version": 3
   },
   "file_extension": ".py",
   "mimetype": "text/x-python",
   "name": "python",
   "nbconvert_exporter": "python",
   "pygments_lexer": "ipython3",
   "version": "3.13.3"
  }
 },
 "nbformat": 4,
 "nbformat_minor": 5
}
