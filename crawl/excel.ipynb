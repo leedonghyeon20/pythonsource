{
 "cells": [
  {
   "cell_type": "markdown",
   "id": "83b9646d",
   "metadata": {},
   "source": [
    "### Excel\n",
    "- pip install openpyxl\n",
    "- 파이썬에서 엑셀 프로그램 처리"
   ]
  },
  {
   "cell_type": "code",
   "execution_count": 1,
   "id": "4c28a709",
   "metadata": {},
   "outputs": [],
   "source": [
    "from openpyxl import Workbook, load_workbook"
   ]
  },
  {
   "cell_type": "code",
   "execution_count": 2,
   "id": "983324a5",
   "metadata": {},
   "outputs": [
    {
     "ename": "FileNotFoundError",
     "evalue": "[Errno 2] No such file or directory: './data/sample1.xlsx'",
     "output_type": "error",
     "traceback": [
      "\u001b[31m---------------------------------------------------------------------------\u001b[39m",
      "\u001b[31mFileNotFoundError\u001b[39m                         Traceback (most recent call last)",
      "\u001b[36mCell\u001b[39m\u001b[36m \u001b[39m\u001b[32mIn[2]\u001b[39m\u001b[32m, line 10\u001b[39m\n\u001b[32m      7\u001b[39m ws.title = \u001b[33m\"\u001b[39m\u001b[33mtest\u001b[39m\u001b[33m\"\u001b[39m\n\u001b[32m      9\u001b[39m \u001b[38;5;66;03m# 엑셀파일 저장\u001b[39;00m\n\u001b[32m---> \u001b[39m\u001b[32m10\u001b[39m \u001b[43mwb\u001b[49m\u001b[43m.\u001b[49m\u001b[43msave\u001b[49m\u001b[43m(\u001b[49m\u001b[33;43m\"\u001b[39;49m\u001b[33;43m./data/sample1.xlsx\u001b[39;49m\u001b[33;43m\"\u001b[39;49m\u001b[43m)\u001b[49m\n\u001b[32m     11\u001b[39m wb.close()\n",
      "\u001b[36mFile \u001b[39m\u001b[32mc:\\source\\pythonsource\\venv\\Lib\\site-packages\\openpyxl\\workbook\\workbook.py:386\u001b[39m, in \u001b[36mWorkbook.save\u001b[39m\u001b[34m(self, filename)\u001b[39m\n\u001b[32m    384\u001b[39m \u001b[38;5;28;01mif\u001b[39;00m \u001b[38;5;28mself\u001b[39m.write_only \u001b[38;5;129;01mand\u001b[39;00m \u001b[38;5;129;01mnot\u001b[39;00m \u001b[38;5;28mself\u001b[39m.worksheets:\n\u001b[32m    385\u001b[39m     \u001b[38;5;28mself\u001b[39m.create_sheet()\n\u001b[32m--> \u001b[39m\u001b[32m386\u001b[39m \u001b[43msave_workbook\u001b[49m\u001b[43m(\u001b[49m\u001b[38;5;28;43mself\u001b[39;49m\u001b[43m,\u001b[49m\u001b[43m \u001b[49m\u001b[43mfilename\u001b[49m\u001b[43m)\u001b[49m\n",
      "\u001b[36mFile \u001b[39m\u001b[32mc:\\source\\pythonsource\\venv\\Lib\\site-packages\\openpyxl\\writer\\excel.py:291\u001b[39m, in \u001b[36msave_workbook\u001b[39m\u001b[34m(workbook, filename)\u001b[39m\n\u001b[32m    279\u001b[39m \u001b[38;5;28;01mdef\u001b[39;00m\u001b[38;5;250m \u001b[39m\u001b[34msave_workbook\u001b[39m(workbook, filename):\n\u001b[32m    280\u001b[39m \u001b[38;5;250m    \u001b[39m\u001b[33;03m\"\"\"Save the given workbook on the filesystem under the name filename.\u001b[39;00m\n\u001b[32m    281\u001b[39m \n\u001b[32m    282\u001b[39m \u001b[33;03m    :param workbook: the workbook to save\u001b[39;00m\n\u001b[32m   (...)\u001b[39m\u001b[32m    289\u001b[39m \n\u001b[32m    290\u001b[39m \u001b[33;03m    \"\"\"\u001b[39;00m\n\u001b[32m--> \u001b[39m\u001b[32m291\u001b[39m     archive = \u001b[43mZipFile\u001b[49m\u001b[43m(\u001b[49m\u001b[43mfilename\u001b[49m\u001b[43m,\u001b[49m\u001b[43m \u001b[49m\u001b[33;43m'\u001b[39;49m\u001b[33;43mw\u001b[39;49m\u001b[33;43m'\u001b[39;49m\u001b[43m,\u001b[49m\u001b[43m \u001b[49m\u001b[43mZIP_DEFLATED\u001b[49m\u001b[43m,\u001b[49m\u001b[43m \u001b[49m\u001b[43mallowZip64\u001b[49m\u001b[43m=\u001b[49m\u001b[38;5;28;43;01mTrue\u001b[39;49;00m\u001b[43m)\u001b[49m\n\u001b[32m    292\u001b[39m     workbook.properties.modified = datetime.datetime.now(tz=datetime.timezone.utc).replace(tzinfo=\u001b[38;5;28;01mNone\u001b[39;00m)\n\u001b[32m    293\u001b[39m     writer = ExcelWriter(workbook, archive)\n",
      "\u001b[36mFile \u001b[39m\u001b[32m~\\AppData\\Local\\Programs\\Python\\Python313\\Lib\\zipfile\\__init__.py:1367\u001b[39m, in \u001b[36mZipFile.__init__\u001b[39m\u001b[34m(self, file, mode, compression, allowZip64, compresslevel, strict_timestamps, metadata_encoding)\u001b[39m\n\u001b[32m   1365\u001b[39m \u001b[38;5;28;01mwhile\u001b[39;00m \u001b[38;5;28;01mTrue\u001b[39;00m:\n\u001b[32m   1366\u001b[39m     \u001b[38;5;28;01mtry\u001b[39;00m:\n\u001b[32m-> \u001b[39m\u001b[32m1367\u001b[39m         \u001b[38;5;28mself\u001b[39m.fp = \u001b[43mio\u001b[49m\u001b[43m.\u001b[49m\u001b[43mopen\u001b[49m\u001b[43m(\u001b[49m\u001b[43mfile\u001b[49m\u001b[43m,\u001b[49m\u001b[43m \u001b[49m\u001b[43mfilemode\u001b[49m\u001b[43m)\u001b[49m\n\u001b[32m   1368\u001b[39m     \u001b[38;5;28;01mexcept\u001b[39;00m \u001b[38;5;167;01mOSError\u001b[39;00m:\n\u001b[32m   1369\u001b[39m         \u001b[38;5;28;01mif\u001b[39;00m filemode \u001b[38;5;129;01min\u001b[39;00m modeDict:\n",
      "\u001b[31mFileNotFoundError\u001b[39m: [Errno 2] No such file or directory: './data/sample1.xlsx'"
     ]
    }
   ],
   "source": [
    "# 엑셀파일 생성\n",
    "\n",
    "wb = Workbook()\n",
    "# 첫번째 sheet 가져오기\n",
    "ws = wb.active\n",
    "# 시트명 변경\n",
    "ws.title = \"test\"\n",
    "\n",
    "# 엑셀파일 저장\n",
    "wb.save(\"./data/sample1.xlsx\")\n",
    "wb.close()"
   ]
  },
  {
   "cell_type": "code",
   "execution_count": null,
   "id": "1ba0ea3b",
   "metadata": {},
   "outputs": [],
   "source": [
    "# 엑셀파일 생성\n",
    "\n",
    "wb = Workbook()\n",
    "# 첫번째 sheet 가져오기\n",
    "ws = wb.active\n",
    "# 시트명 변경\n",
    "ws.title = \"test\"\n",
    "\n",
    "# 두번째 sheet 생성\n",
    "ws2 = wb.create_sheet()\n",
    "ws2.title = \"MySheet\"\n",
    "ws2.sheet_properties.tabColor=\"ff66ff\"\n",
    "\n",
    "# 시트 복사\n",
    "new_ws = wb.copy_worksheet(ws)\n",
    "new_ws.title = \"Copied Sheet\"\n",
    "\n",
    "# 엑셀파일 저장\n",
    "wb.save(\"./data/sample1.xlsx\")\n",
    "wb.close()"
   ]
  },
  {
   "cell_type": "code",
   "execution_count": null,
   "id": "0babe3ef",
   "metadata": {},
   "outputs": [],
   "source": [
    "wb = Workbook()\n",
    "# 첫번째 sheet 가져오기\n",
    "ws = wb.active\n",
    "# 시트명 변경\n",
    "ws.title = \"test\"\n",
    "\n",
    "# 셀 접근\n",
    "ws[\"A1\"] = 1\n",
    "ws[\"A2\"] = 2\n",
    "ws[\"A3\"] = 3\n",
    "\n",
    "ws[\"B1\"] = 4\n",
    "ws[\"B2\"] = 5\n",
    "ws[\"B3\"] = 6\n",
    "\n",
    "\n",
    "# 엑셀파일 저장\n",
    "wb.save(\"./data/sample1.xlsx\")\n",
    "wb.close()"
   ]
  },
  {
   "cell_type": "code",
   "execution_count": null,
   "id": "30d417e5",
   "metadata": {},
   "outputs": [],
   "source": [
    "from random import randint\n",
    "\n",
    "wb = Workbook()\n",
    "# 첫번째 sheet 가져오기\n",
    "ws = wb.active\n",
    "# 시트명 변경\n",
    "ws.title = \"test\"\n",
    "\n",
    "for i in range(1, 11):\n",
    "    for j in range(1, 11):\n",
    "        ws.cell(row=i, column=j, value=randint(0, 100))\n",
    "\n",
    "# 엑셀파일 저장\n",
    "wb.save(\"./data/sample2.xlsx\")\n",
    "wb.close()"
   ]
  },
  {
   "cell_type": "code",
   "execution_count": null,
   "id": "94414faf",
   "metadata": {},
   "outputs": [
    {
     "name": "stdout",
     "output_type": "stream",
     "text": [
      "74 38 15 3 26 13 30 76 36 26 \n",
      "70 26 30 95 62 2 41 99 43 68 \n",
      "75 42 24 30 54 36 27 16 90 18 \n",
      "17 43 49 42 26 41 98 4 64 33 \n",
      "47 98 36 87 82 97 75 1 1 78 \n",
      "11 19 63 77 50 40 23 86 96 14 \n",
      "58 47 52 26 10 22 60 81 59 71 \n",
      "50 91 53 16 84 16 19 81 12 26 \n",
      "53 33 23 5 82 97 41 89 53 26 \n",
      "90 8 78 26 18 50 34 49 46 54 \n"
     ]
    }
   ],
   "source": [
    "wb = load_workbook(\"./data/sample2.xlsx\")\n",
    "ws = wb.active\n",
    "\n",
    "for i in range(1, 11):\n",
    "    for j in range(1, 11):\n",
    "        print(ws.cell(row=i, column=j).value, end = \" \")\n",
    "    print()\n",
    "\n",
    "wb.close()"
   ]
  },
  {
   "cell_type": "code",
   "execution_count": null,
   "id": "43b3dc60",
   "metadata": {},
   "outputs": [
    {
     "ename": "FileNotFoundError",
     "evalue": "[Errno 2] No such file or directory: './data/sample2.xlsx'",
     "output_type": "error",
     "traceback": [
      "\u001b[31m---------------------------------------------------------------------------\u001b[39m",
      "\u001b[31mFileNotFoundError\u001b[39m                         Traceback (most recent call last)",
      "\u001b[36mCell\u001b[39m\u001b[36m \u001b[39m\u001b[32mIn[3]\u001b[39m\u001b[32m, line 1\u001b[39m\n\u001b[32m----> \u001b[39m\u001b[32m1\u001b[39m wb = \u001b[43mload_workbook\u001b[49m\u001b[43m(\u001b[49m\u001b[33;43m\"\u001b[39;49m\u001b[33;43m./data/sample2.xlsx\u001b[39;49m\u001b[33;43m\"\u001b[39;49m\u001b[43m)\u001b[49m\n\u001b[32m      2\u001b[39m ws = wb.active\n\u001b[32m      4\u001b[39m \u001b[38;5;28;01mfor\u001b[39;00m row \u001b[38;5;129;01min\u001b[39;00m ws.iter_rows:\n",
      "\u001b[36mFile \u001b[39m\u001b[32mc:\\source\\pythonsource\\venv\\Lib\\site-packages\\openpyxl\\reader\\excel.py:346\u001b[39m, in \u001b[36mload_workbook\u001b[39m\u001b[34m(filename, read_only, keep_vba, data_only, keep_links, rich_text)\u001b[39m\n\u001b[32m    316\u001b[39m \u001b[38;5;28;01mdef\u001b[39;00m\u001b[38;5;250m \u001b[39m\u001b[34mload_workbook\u001b[39m(filename, read_only=\u001b[38;5;28;01mFalse\u001b[39;00m, keep_vba=KEEP_VBA,\n\u001b[32m    317\u001b[39m                   data_only=\u001b[38;5;28;01mFalse\u001b[39;00m, keep_links=\u001b[38;5;28;01mTrue\u001b[39;00m, rich_text=\u001b[38;5;28;01mFalse\u001b[39;00m):\n\u001b[32m    318\u001b[39m \u001b[38;5;250m    \u001b[39m\u001b[33;03m\"\"\"Open the given filename and return the workbook\u001b[39;00m\n\u001b[32m    319\u001b[39m \n\u001b[32m    320\u001b[39m \u001b[33;03m    :param filename: the path to open or a file-like object\u001b[39;00m\n\u001b[32m   (...)\u001b[39m\u001b[32m    344\u001b[39m \n\u001b[32m    345\u001b[39m \u001b[33;03m    \"\"\"\u001b[39;00m\n\u001b[32m--> \u001b[39m\u001b[32m346\u001b[39m     reader = \u001b[43mExcelReader\u001b[49m\u001b[43m(\u001b[49m\u001b[43mfilename\u001b[49m\u001b[43m,\u001b[49m\u001b[43m \u001b[49m\u001b[43mread_only\u001b[49m\u001b[43m,\u001b[49m\u001b[43m \u001b[49m\u001b[43mkeep_vba\u001b[49m\u001b[43m,\u001b[49m\n\u001b[32m    347\u001b[39m \u001b[43m                         \u001b[49m\u001b[43mdata_only\u001b[49m\u001b[43m,\u001b[49m\u001b[43m \u001b[49m\u001b[43mkeep_links\u001b[49m\u001b[43m,\u001b[49m\u001b[43m \u001b[49m\u001b[43mrich_text\u001b[49m\u001b[43m)\u001b[49m\n\u001b[32m    348\u001b[39m     reader.read()\n\u001b[32m    349\u001b[39m     \u001b[38;5;28;01mreturn\u001b[39;00m reader.wb\n",
      "\u001b[36mFile \u001b[39m\u001b[32mc:\\source\\pythonsource\\venv\\Lib\\site-packages\\openpyxl\\reader\\excel.py:123\u001b[39m, in \u001b[36mExcelReader.__init__\u001b[39m\u001b[34m(self, fn, read_only, keep_vba, data_only, keep_links, rich_text)\u001b[39m\n\u001b[32m    121\u001b[39m \u001b[38;5;28;01mdef\u001b[39;00m\u001b[38;5;250m \u001b[39m\u001b[34m__init__\u001b[39m(\u001b[38;5;28mself\u001b[39m, fn, read_only=\u001b[38;5;28;01mFalse\u001b[39;00m, keep_vba=KEEP_VBA,\n\u001b[32m    122\u001b[39m              data_only=\u001b[38;5;28;01mFalse\u001b[39;00m, keep_links=\u001b[38;5;28;01mTrue\u001b[39;00m, rich_text=\u001b[38;5;28;01mFalse\u001b[39;00m):\n\u001b[32m--> \u001b[39m\u001b[32m123\u001b[39m     \u001b[38;5;28mself\u001b[39m.archive = \u001b[43m_validate_archive\u001b[49m\u001b[43m(\u001b[49m\u001b[43mfn\u001b[49m\u001b[43m)\u001b[49m\n\u001b[32m    124\u001b[39m     \u001b[38;5;28mself\u001b[39m.valid_files = \u001b[38;5;28mself\u001b[39m.archive.namelist()\n\u001b[32m    125\u001b[39m     \u001b[38;5;28mself\u001b[39m.read_only = read_only\n",
      "\u001b[36mFile \u001b[39m\u001b[32mc:\\source\\pythonsource\\venv\\Lib\\site-packages\\openpyxl\\reader\\excel.py:95\u001b[39m, in \u001b[36m_validate_archive\u001b[39m\u001b[34m(filename)\u001b[39m\n\u001b[32m     88\u001b[39m             msg = (\u001b[33m'\u001b[39m\u001b[33mopenpyxl does not support \u001b[39m\u001b[38;5;132;01m%s\u001b[39;00m\u001b[33m file format, \u001b[39m\u001b[33m'\u001b[39m\n\u001b[32m     89\u001b[39m                    \u001b[33m'\u001b[39m\u001b[33mplease check you can open \u001b[39m\u001b[33m'\u001b[39m\n\u001b[32m     90\u001b[39m                    \u001b[33m'\u001b[39m\u001b[33mit with Excel first. \u001b[39m\u001b[33m'\u001b[39m\n\u001b[32m     91\u001b[39m                    \u001b[33m'\u001b[39m\u001b[33mSupported formats are: \u001b[39m\u001b[38;5;132;01m%s\u001b[39;00m\u001b[33m'\u001b[39m) % (file_format,\n\u001b[32m     92\u001b[39m                                                    \u001b[33m'\u001b[39m\u001b[33m,\u001b[39m\u001b[33m'\u001b[39m.join(SUPPORTED_FORMATS))\n\u001b[32m     93\u001b[39m         \u001b[38;5;28;01mraise\u001b[39;00m InvalidFileException(msg)\n\u001b[32m---> \u001b[39m\u001b[32m95\u001b[39m archive = \u001b[43mZipFile\u001b[49m\u001b[43m(\u001b[49m\u001b[43mfilename\u001b[49m\u001b[43m,\u001b[49m\u001b[43m \u001b[49m\u001b[33;43m'\u001b[39;49m\u001b[33;43mr\u001b[39;49m\u001b[33;43m'\u001b[39;49m\u001b[43m)\u001b[49m\n\u001b[32m     96\u001b[39m \u001b[38;5;28;01mreturn\u001b[39;00m archive\n",
      "\u001b[36mFile \u001b[39m\u001b[32m~\\AppData\\Local\\Programs\\Python\\Python313\\Lib\\zipfile\\__init__.py:1367\u001b[39m, in \u001b[36mZipFile.__init__\u001b[39m\u001b[34m(self, file, mode, compression, allowZip64, compresslevel, strict_timestamps, metadata_encoding)\u001b[39m\n\u001b[32m   1365\u001b[39m \u001b[38;5;28;01mwhile\u001b[39;00m \u001b[38;5;28;01mTrue\u001b[39;00m:\n\u001b[32m   1366\u001b[39m     \u001b[38;5;28;01mtry\u001b[39;00m:\n\u001b[32m-> \u001b[39m\u001b[32m1367\u001b[39m         \u001b[38;5;28mself\u001b[39m.fp = \u001b[43mio\u001b[49m\u001b[43m.\u001b[49m\u001b[43mopen\u001b[49m\u001b[43m(\u001b[49m\u001b[43mfile\u001b[49m\u001b[43m,\u001b[49m\u001b[43m \u001b[49m\u001b[43mfilemode\u001b[49m\u001b[43m)\u001b[49m\n\u001b[32m   1368\u001b[39m     \u001b[38;5;28;01mexcept\u001b[39;00m \u001b[38;5;167;01mOSError\u001b[39;00m:\n\u001b[32m   1369\u001b[39m         \u001b[38;5;28;01mif\u001b[39;00m filemode \u001b[38;5;129;01min\u001b[39;00m modeDict:\n",
      "\u001b[31mFileNotFoundError\u001b[39m: [Errno 2] No such file or directory: './data/sample2.xlsx'"
     ]
    }
   ],
   "source": [
    "wb = load_workbook(\"./data/sample2.xlsx\")\n",
    "ws = wb.active\n",
    "\n",
    "for row in ws.iter_rows():\n",
    "    print(row[1].value)\n",
    "\n",
    "wb.close()"
   ]
  },
  {
   "cell_type": "code",
   "execution_count": null,
   "id": "d8a86ddd",
   "metadata": {},
   "outputs": [],
   "source": []
  }
 ],
 "metadata": {
  "kernelspec": {
   "display_name": "venv",
   "language": "python",
   "name": "python3"
  },
  "language_info": {
   "codemirror_mode": {
    "name": "ipython",
    "version": 3
   },
   "file_extension": ".py",
   "mimetype": "text/x-python",
   "name": "python",
   "nbconvert_exporter": "python",
   "pygments_lexer": "ipython3",
   "version": "3.13.3"
  }
 },
 "nbformat": 4,
 "nbformat_minor": 5
}
